{
 "cells": [
  {
   "cell_type": "code",
   "execution_count": null,
   "id": "e111519c",
   "metadata": {},
   "outputs": [],
   "source": [
    " Transmission (%)\n",
    "  100 |                                               CCCCCCCCCCCCCCCCCCCCCCCC\n",
    "      |                                              CCCCCCCCCCCCCCCCCCCCCCCCC   \n",
    "   90 |                                             CCSSSSSSSSSSSSSSSSSSSSSSSSSS\n",
    "      |                                            CSSSSSSSSSSSSSSSSSSSSSSSSSSSSS\n",
    "   80 |                                           SSSSSSSSSSSSSSSSSSSSSSSSSSSSSSS\n",
    "      |                                         SSSSSSSSSSSSSSSSSSSSSSSSSSSSSSSSS\n",
    "   70 |                                        SSSSSSSSSSSSSSSSSSSSSSSSSSSSSSSSSS\n",
    "      |                                      SSSSSSSSSSSSSSSSSSSSSSSSSSSSSSSSSSSS\n",
    "   60 |                                    SSSSSSSSSSSSSSSSSSSSSSSSSSSSSSSSSSSSSS\n",
    "      |                                  SSSSSSSSSSSSSSSSSSSSSSSSSSSSSSSSSSSSSSSS\n",
    "   50 |                                SSSSSSSSSSSSSSSSSSSSSSSSSSSSSSSSSSSSSSSSSS\n",
    "      |                              SSSSSSSSSSSSSSSSSSSSSSSSSSSSSSSSSSSSSSSSSSSS\n",
    "   40 |                             SSSSSSSSSSSSSSSSSSSSSSSSSSSSSSSSSSSSSSSSSSSSS\n",
    "      |                           SSSSSSSSSSSSSSSSSSSSSSSSSSSSSSSSSSSSSSSSSSSSSSS\n",
    "   30 |                         SSSSSSSSSSSSSSSSSSSSSSSSSSSSSSSSSSSSSSSSSSSSSSSSSS\n",
    "      |                       SSSSSSSSSSSSSSSSSSSSSSSSSSSSSSSSSSSSSSSSSSSSSSSSSSSS\n",
    "   20 |                     SSSSSSSSSSSSSSSSSSSSSSSSSSSSSSSSSSSSSSSSSSSSSSSSSSSSSS\n",
    "      |                   SSSSSSSSSSSSSSSSSSSSSSSSSSSSSSSSSSSSSSSSSSSSSSSSSSSSSSSS\n",
    "   10 |                 SSSSSSSSSSSSSSSSSSSSSSSSSSSSSSSSSSSSSSSSSSSSSSSSSSSSSSSSSS\n",
    "      |              SSSSSSSSSSSSSSSSSSSS\n",
    "    0 |_____|______|______|______|______|______|______|______|______|______|______|→ Wavelength (nm)\n",
    "       450    475     500    525    550    575    600    625    650    675    700  \n",
    "\n",
    "          ~562 nm (S)            ~565 nm (C)\n"
   ]
  },
  {
   "cell_type": "code",
   "execution_count": 2,
   "id": "9fffee66",
   "metadata": {},
   "outputs": [
    {
     "name": "stdout",
     "output_type": "stream",
     "text": [
      "Enter Chroma CSV filename (default: chroma_t565lpxr.csv): chroma_t565lpxr.csv\n",
      "Enter Semrock CSV filename (default: semrock_ff562_di03.csv): semrock_ff562_di03.csv\n"
     ]
    },
    {
     "data": {
      "image/png": "[encoded data removed]",
      "text/plain": [
       "<Figure size 800x500 with 1 Axes>"
      ]
     },
     "metadata": {
      "needs_background": "light"
     },
     "output_type": "display_data"
    }
   ],
   "source": [
    "#!/usr/bin/env python3\n",
    "\n",
    "import csv\n",
    "import matplotlib.pyplot as plt\n",
    "\n",
    "def read_spectral_csv(filename):\n",
    "    \"\"\"\n",
    "    Reads a CSV file with two columns:\n",
    "        1) Wavelength (nm)\n",
    "        2) Transmission or Reflectance (in % or fraction)\n",
    "\n",
    "    Returns:\n",
    "        wavelengths (list of floats)\n",
    "        values (list of floats)\n",
    "    \"\"\"\n",
    "    wavelengths = []\n",
    "    values = []\n",
    "    with open(filename, 'r', encoding='utf-8-sig') as f:\n",
    "        #reader = csv.reader(f)\n",
    "        reader = csv.reader(f, delimiter='\\t')\n",
    "        # Optional: skip header if present\n",
    "        header = next(reader, None)\n",
    "        # If your file has a header row, this line reads it\n",
    "        # If it does not, you can comment the above line out\n",
    "\n",
    "        for row in reader:\n",
    "            if len(row) < 2:\n",
    "                continue  # Skip any incomplete rows\n",
    "            try:\n",
    "                w = float(row[0])\n",
    "                v = float(row[1])\n",
    "                wavelengths.append(w)\n",
    "                values.append(v)\n",
    "            except ValueError:\n",
    "                # Skip rows that don't have valid floats\n",
    "                continue\n",
    "    return wavelengths, values\n",
    "\n",
    "def plot_dichroic_data(wl_chroma, val_chroma, wl_semrock, val_semrock,\n",
    "                       label_chroma=\"Chroma T565lpxr\",\n",
    "                       label_semrock=\"Semrock FF562-Di03\",\n",
    "                       y_label=\"Transmission (%)\"):\n",
    "    \"\"\"\n",
    "    Plots two curves (Chroma vs. Semrock) on the same figure\n",
    "    \"\"\"\n",
    "    plt.figure(figsize=(8, 5), dpi=100)\n",
    "\n",
    "    plt.plot(wl_chroma, val_chroma, label=label_chroma, color='red')\n",
    "    plt.plot(wl_semrock, val_semrock, label=label_semrock, color='blue')\n",
    "\n",
    "    plt.title(\"Dichroic Comparison\")\n",
    "    plt.xlabel(\"Wavelength (nm)\")\n",
    "    plt.ylabel(y_label)\n",
    "    plt.grid(True)\n",
    "    plt.legend()\n",
    "    plt.tight_layout()\n",
    "    plt.show()\n",
    "\n",
    "def main():\n",
    "    # Example usage:\n",
    "    chroma_file = input(\"Enter Chroma CSV filename (default: chroma_t565lpxr.csv): \") or \"chroma_t565lpxr.csv\"\n",
    "    semrock_file = input(\"Enter Semrock CSV filename (default: semrock_ff562_di03.csv): \") or \"semrock_ff562_di03.csv\"\n",
    "\n",
    "    # Read CSV data\n",
    "    wl_chroma, val_chroma = read_spectral_csv(chroma_file)\n",
    "    wl_semrock, val_semrock = read_spectral_csv(semrock_file)\n",
    "\n",
    "    # Plot the two sets of data\n",
    "    plot_dichroic_data(wl_chroma, val_chroma, wl_semrock, val_semrock,\n",
    "                       label_chroma=\"Chroma T565lpxr\",\n",
    "                       label_semrock=\"Semrock FF562-Di03\",\n",
    "                       y_label=\"Transmission (%)\")\n",
    "\n",
    "if __name__ == \"__main__\":\n",
    "    main()\n"
   ]
  },
  {
   "cell_type": "code",
   "execution_count": null,
   "id": "4425b10a",
   "metadata": {},
   "outputs": [],
   "source": []
  }
 ],
 "metadata": {
  "kernelspec": {
   "display_name": "Python 3 (ipykernel)",
   "language": "python",
   "name": "python3"
  },
  "language_info": {
   "codemirror_mode": {
    "name": "ipython",
    "version": 3
   },
   "file_extension": ".py",
   "mimetype": "text/x-python",
   "name": "python",
   "nbconvert_exporter": "python",
   "pygments_lexer": "ipython3",
   "version": "3.9.7"
  }
 },
 "nbformat": 4,
 "nbformat_minor": 5
}
