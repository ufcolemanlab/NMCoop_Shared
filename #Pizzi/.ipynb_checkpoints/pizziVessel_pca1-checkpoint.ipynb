{
 "cells": [
  {
   "cell_type": "code",
   "execution_count": 3,
   "id": "eb2ef181",
   "metadata": {},
   "outputs": [
    {
     "name": "stdout",
     "output_type": "stream",
     "text": [
      "0     ZT10_16X6x_gg_800nm_m5_roi2_00003_ROIs_classA\n",
      "1     ZT10_16X6x_gg_800nm_m6_roi1_00001_ROIs_classA\n",
      "2     ZT10_16X6x_gg_800nm_m7_roi1_00001_ROIs_classA\n",
      "3     ZT10_16X6x_gg_800nm_m9_roi1_00002_ROIs_classA\n",
      "4    ZT10_16X6x_gg_800nm_m10_roi1_00001_ROIs_classA\n",
      "5    ZT10_16X6x_gg_800nm_m11_roi1_00001_ROIs_classA\n",
      "6    ZT10_16X6x_gg_800nm_m12_roi1_00001_ROIs_classA\n",
      "7    ZT10_16X6x_gg_800nm_m13_roi1_00002_ROIs_classA\n",
      "8    ZT10_16X6x_gg_800nm_m15_roi1_00001_ROIs_classA\n",
      "9    ZT10_16X6x_gg_800nm_m16_roi1_00001_ROIs_classA\n",
      "Name: filename, dtype: object\n",
      "0    A\n",
      "1    A\n",
      "2    B\n",
      "3    A\n",
      "4    A\n",
      "5    A\n",
      "6    A\n",
      "7    B\n",
      "8    B\n",
      "9    B\n",
      "Name: group, dtype: object\n"
     ]
    }
   ],
   "source": [
    "import pandas as pd\n",
    "\n",
    "# Load the CSV file\n",
    "pathname = '/Users/jcoleman/Documents/--LARGE DATA--/#Pizzi/TBI-sham leak analysis/scripts/matlab-copy/September 2024/'\n",
    "filename = 'analysisData_091724.csv'\n",
    "df = pd.read_csv(pathname+filename)\n",
    "\n",
    "print(df['filename'])\n",
    "print(df['group'])"
   ]
  },
  {
   "cell_type": "code",
   "execution_count": 36,
   "id": "00da135e",
   "metadata": {},
   "outputs": [
    {
     "name": "stdout",
     "output_type": "stream",
     "text": [
      "Empty DataFrame\n",
      "Columns: [meanFWHM_1, meanFWHM_2, meanFWHM_3, meanFWHM_4, meanFWHM_5, meanFWHM_6, meanFWHM_7, meanFWHM_8, meanFWHM_9, meanFWHM_10, meanFWHM_11, meanFWHM_12, meanFWHM_13, meanFWHM_14, meanFWHM_15, meanFWHM_16, meanFWHM_17, meanFWHM_18, meanFWHM_19, meanFWHM_20, meanFWHM_21, meanFWHM_22, meanFWHM_23, meanFWHM_24, meanFWHM_25, meanFWHM_26, meanFWHM_27, meanFWHM_28, meanFWHM_29, meanFWHM_30, meanFWHM_31, meanFWHM_32, meanFWHM_33, meanFWHM_34, meanFWHM_35, meanFWHM_36, meanFWHM_37, meanFWHM_38, meanFWHM_39, meanFWHM_40, meanFeFv_1, meanFeFv_2, meanFeFv_3, meanFeFv_4, meanFeFv_5, meanFeFv_6, meanFeFv_7, meanFeFv_8, meanFeFv_9, meanFeFv_10, meanFeFv_11, meanFeFv_12, meanFeFv_13, meanFeFv_14, meanFeFv_15, meanFeFv_16, meanFeFv_17, meanFeFv_18, meanFeFv_19, meanFeFv_20, meanFeFv_21, meanFeFv_22, meanFeFv_23, meanFeFv_24, meanFeFv_25, meanFeFv_26, meanFeFv_27, meanFeFv_28, meanFeFv_29, meanFeFv_30, meanFeFv_31, meanFeFv_32, meanFeFv_33, meanFeFv_34, meanFeFv_35, meanFeFv_36, meanFeFv_37, meanFeFv_38, meanFeFv_39, meanFeFv_40, X_1, X_2, X_3, X_4, X_5, X_6, X_7, X_8, X_9, X_10, X_11, X_12, X_13, X_14, X_15, X_16, X_17, X_18, X_19, X_20, ...]\n",
      "Index: []\n",
      "\n",
      "[0 rows x 200 columns]\n"
     ]
    }
   ],
   "source": [
    "import re\n",
    "logical_columns = [col for col in df.columns if any(keyword in col for keyword in ['capLogical', 'venLogical', 'artLogical'])]\n",
    "columns_to_extract = [col for col in df.columns if any(keyword in col for keyword in ['meanFWHM', 'meanFeFv', 'X', 'Y', 'Z'])]\n",
    "# repeat to matke a DF for ploitting\n",
    "columns_to_plot = [col for col in df.columns if any(keyword in col for keyword in ['meanFWHM', 'meanFeFv', 'X', 'Y', 'Z'])]\n",
    "columns_to_plot.extend(['filename', 'group'] + logical_columns) #with logical columns (still need for plotting)\n",
    "# columns_to_extract.extend(['filename'])\n",
    "\n",
    "new_df = df[columns_to_extract].copy()\n",
    "#newplot_df = df[columns_to_plot].copy() #create a version with group and logicals\n",
    "\n",
    "new_df = new_df.dropna() #rid Nans\n",
    "#newplot_df = newplot_df.fillna() #rid Nans\n",
    "\n",
    "print(new_df.head())\n"
   ]
  },
  {
   "cell_type": "code",
   "execution_count": 41,
   "id": "a5f0dbb8",
   "metadata": {},
   "outputs": [
    {
     "name": "stdout",
     "output_type": "stream",
     "text": [
      "Empty DataFrame\n",
      "Columns: [meanFWHM_1, meanFWHM_2, meanFWHM_3, meanFWHM_4, meanFWHM_5, meanFWHM_6, meanFWHM_7, meanFWHM_8, meanFWHM_9, meanFWHM_10, meanFWHM_11, meanFWHM_12, meanFWHM_13, meanFWHM_14, meanFWHM_15, meanFWHM_16, meanFWHM_17, meanFWHM_18, meanFWHM_19, meanFWHM_20, meanFWHM_21, meanFWHM_22, meanFWHM_23, meanFWHM_24, meanFWHM_25, meanFWHM_26, meanFWHM_27, meanFWHM_28, meanFWHM_29, meanFWHM_30, meanFWHM_31, meanFWHM_32, meanFWHM_33, meanFWHM_34, meanFWHM_35, meanFWHM_36, meanFWHM_37, meanFWHM_38, meanFWHM_39, meanFWHM_40, meanFeFv_1, meanFeFv_2, meanFeFv_3, meanFeFv_4, meanFeFv_5, meanFeFv_6, meanFeFv_7, meanFeFv_8, meanFeFv_9, meanFeFv_10, meanFeFv_11, meanFeFv_12, meanFeFv_13, meanFeFv_14, meanFeFv_15, meanFeFv_16, meanFeFv_17, meanFeFv_18, meanFeFv_19, meanFeFv_20, meanFeFv_21, meanFeFv_22, meanFeFv_23, meanFeFv_24, meanFeFv_25, meanFeFv_26, meanFeFv_27, meanFeFv_28, meanFeFv_29, meanFeFv_30, meanFeFv_31, meanFeFv_32, meanFeFv_33, meanFeFv_34, meanFeFv_35, meanFeFv_36, meanFeFv_37, meanFeFv_38, meanFeFv_39, meanFeFv_40, X_1, X_2, X_3, X_4, X_5, X_6, X_7, X_8, X_9, X_10, X_11, X_12, X_13, X_14, X_15, X_16, X_17, X_18, X_19, X_20, ...]\n",
      "Index: []\n",
      "\n",
      "[0 rows x 200 columns]\n"
     ]
    }
   ],
   "source": [
    "# print(newplot_df.head['filename'])\n",
    "print(new_df.head())"
   ]
  },
  {
   "cell_type": "code",
   "execution_count": 74,
   "id": "01344902",
   "metadata": {},
   "outputs": [
    {
     "name": "stdout",
     "output_type": "stream",
     "text": [
      "   meanFWHM_1  meanFWHM_2  meanFWHM_3  meanFWHM_4  meanFWHM_5  meanFWHM_6  \\\n",
      "0    3.740378    4.100067    6.326261    6.066305         NaN         NaN   \n",
      "1    5.886713    4.679207    6.691621    6.233091    5.106044         NaN   \n",
      "2    4.079630    3.446943    4.057460         NaN    5.208817         NaN   \n",
      "3    4.979717    4.802855    3.776378    3.367183    6.708486    4.419400   \n",
      "4    3.977697    2.942062    5.012042    5.936727    5.160015    4.400999   \n",
      "\n",
      "   meanFWHM_7  meanFWHM_8  meanFWHM_9  meanFWHM_10  ...  Z_31  Z_32  Z_33  \\\n",
      "0         NaN         NaN         NaN          NaN  ...   NaN   NaN   NaN   \n",
      "1    4.443435    3.919023    5.440260     5.657550  ...   NaN   NaN   NaN   \n",
      "2         NaN         NaN         NaN          NaN  ...   NaN   NaN   NaN   \n",
      "3    4.370948    7.461568         NaN     3.136460  ...   NaN   NaN   NaN   \n",
      "4    3.628295    5.456183    6.649782     8.904381  ...   NaN   NaN   NaN   \n",
      "\n",
      "   Z_34  Z_35  Z_36  Z_37  Z_38  Z_39  Z_40  \n",
      "0   NaN   NaN   NaN   NaN   NaN   NaN   NaN  \n",
      "1   NaN   NaN   NaN   NaN   NaN   NaN   NaN  \n",
      "2   NaN   NaN   NaN   NaN   NaN   NaN   NaN  \n",
      "3   NaN   NaN   NaN   NaN   NaN   NaN   NaN  \n",
      "4   NaN   NaN   NaN   NaN   NaN   NaN   NaN  \n",
      "\n",
      "[5 rows x 400 columns]\n"
     ]
    }
   ],
   "source": [
    "import pandas as pd\n",
    "import numpy as np\n",
    "\n",
    "# Load data\n",
    "# df = pd.read_csv('your_file.csv')\n",
    "\n",
    "# Select columns containing specific keywords\n",
    "# columns_to_extract = [col for col in df.columns if any(keyword in col for keyword in ['meanFWHM', 'meanFeFv', 'X', 'Y', 'Z'])]\n",
    "columns_to_extract = [col for col in df.columns if any(keyword in col for keyword in ['meanFWHM', 'stdevFWHM', 'minFWHM', 'minFWHM', 'meanFeFv', 'stdevFeFv', 'minFeFv', 'maxFeFv', 'X', 'Y', 'Z'])]\n",
    "logical_columns = [col for col in df.columns if any(keyword in col for keyword in ['capLogical', 'venLogical', 'artLogical'])]\n",
    "#columns_to_extract.extend(logical_columns)\n",
    "# columns_to_extract.extend(['filename'])\n",
    "# columns_to_extract.extend(['filename', 'group'])\n",
    "\n",
    "# Create new DataFrame\n",
    "new_df = df[columns_to_extract].copy()\n",
    "\n",
    "# # Replace NaN values with the mean of each group (across rows)\n",
    "# for index, row in new_df.iterrows():\n",
    "#     for col in new_df.columns:\n",
    "#         if col.startswith(('meanFWHM', 'stdevFWHM', 'minFWHM', 'minFWHM', 'meanFeFv', 'stdevFeFv', 'minFeFv', 'maxFeFv')) and np.isnan(row[col]):\n",
    "#             # Calculate mean of group (e.g., meanFWHM_1, *_2, *_3)\n",
    "#             group_cols = [c for c in new_df.columns if c.startswith(col.split('_')[0])]\n",
    "#             group_mean = row[group_cols].mean()\n",
    "#             new_df.at[index, col] = group_mean\n",
    "\n",
    "print(new_df.head())"
   ]
  },
  {
   "cell_type": "code",
   "execution_count": 64,
   "id": "d34974f6",
   "metadata": {},
   "outputs": [
    {
     "name": "stdout",
     "output_type": "stream",
     "text": [
      "filename   ZT10_16X6x_gg_800nm_m5_roi2_00003_ROIs_classA  \\\n",
      "meanFWHM_1                                      3.740378   \n",
      "meanFWHM_2                                      4.100067   \n",
      "meanFWHM_3                                      6.326261   \n",
      "meanFWHM_4                                      6.066305   \n",
      "meanFWHM_5                                           NaN   \n",
      "\n",
      "filename   ZT10_16X6x_gg_800nm_m6_roi1_00001_ROIs_classA  \\\n",
      "meanFWHM_1                                      5.886713   \n",
      "meanFWHM_2                                      4.679207   \n",
      "meanFWHM_3                                      6.691621   \n",
      "meanFWHM_4                                      6.233091   \n",
      "meanFWHM_5                                      5.106044   \n",
      "\n",
      "filename   ZT10_16X6x_gg_800nm_m7_roi1_00001_ROIs_classA  \\\n",
      "meanFWHM_1                                       4.07963   \n",
      "meanFWHM_2                                      3.446943   \n",
      "meanFWHM_3                                       4.05746   \n",
      "meanFWHM_4                                           NaN   \n",
      "meanFWHM_5                                      5.208817   \n",
      "\n",
      "filename   ZT10_16X6x_gg_800nm_m9_roi1_00002_ROIs_classA  \\\n",
      "meanFWHM_1                                      4.979717   \n",
      "meanFWHM_2                                      4.802855   \n",
      "meanFWHM_3                                      3.776378   \n",
      "meanFWHM_4                                      3.367183   \n",
      "meanFWHM_5                                      6.708486   \n",
      "\n",
      "filename   ZT10_16X6x_gg_800nm_m10_roi1_00001_ROIs_classA  \\\n",
      "meanFWHM_1                                       3.977697   \n",
      "meanFWHM_2                                       2.942062   \n",
      "meanFWHM_3                                       5.012042   \n",
      "meanFWHM_4                                       5.936727   \n",
      "meanFWHM_5                                       5.160015   \n",
      "\n",
      "filename   ZT10_16X6x_gg_800nm_m11_roi1_00001_ROIs_classA  \\\n",
      "meanFWHM_1                                       6.396367   \n",
      "meanFWHM_2                                       4.987402   \n",
      "meanFWHM_3                                       4.438525   \n",
      "meanFWHM_4                                       6.238129   \n",
      "meanFWHM_5                                       3.652761   \n",
      "\n",
      "filename   ZT10_16X6x_gg_800nm_m12_roi1_00001_ROIs_classA  \\\n",
      "meanFWHM_1                                      13.111133   \n",
      "meanFWHM_2                                       6.520617   \n",
      "meanFWHM_3                                      17.666502   \n",
      "meanFWHM_4                                       6.903404   \n",
      "meanFWHM_5                                       7.024061   \n",
      "\n",
      "filename   ZT10_16X6x_gg_800nm_m13_roi1_00002_ROIs_classA  \\\n",
      "meanFWHM_1                                       7.531767   \n",
      "meanFWHM_2                                       5.655471   \n",
      "meanFWHM_3                                       5.116886   \n",
      "meanFWHM_4                                        5.53717   \n",
      "meanFWHM_5                                       5.394427   \n",
      "\n",
      "filename   ZT10_16X6x_gg_800nm_m15_roi1_00001_ROIs_classA  \\\n",
      "meanFWHM_1                                       7.039957   \n",
      "meanFWHM_2                                       4.562134   \n",
      "meanFWHM_3                                       3.755965   \n",
      "meanFWHM_4                                       5.039959   \n",
      "meanFWHM_5                                       5.512683   \n",
      "\n",
      "filename   ZT10_16X6x_gg_800nm_m16_roi1_00001_ROIs_classA  \n",
      "meanFWHM_1                                       3.995751  \n",
      "meanFWHM_2                                       6.654573  \n",
      "meanFWHM_3                                       2.871763  \n",
      "meanFWHM_4                                        8.25879  \n",
      "meanFWHM_5                                       5.911228  \n"
     ]
    }
   ],
   "source": [
    "# transposed data\n",
    "# Transpose data\n",
    "transposed_df = df.set_index('filename').T\n",
    "\n",
    "# Save transposed data\n",
    "transposed_df.to_csv('transposed_data.csv', index=True)\n",
    "\n",
    "# import pandas as pd\n",
    "# import numpy as np\n",
    "\n",
    "# Load transposed data\n",
    "# transposed_df = pd.read_csv('transposed_data.csv', index_col=0)\n",
    "\n",
    "# Imputation methods:\n",
    "# Use numeric_only parameter (available in Pandas 1.0+)\n",
    "transposed_df_imputed_mean = transposed_df.fillna(transposed_df.mean(numeric_only=True))\n",
    "\n",
    "# # 2. Median imputation\n",
    "# transposed_df_imputed_median = transposed_df.fillna(transposed_df.median(numeric_only=True))\n",
    "\n",
    "# # 3. Interpolation\n",
    "# transposed_df_imputed_interp = transposed_df.interpolate(method='linear', limit_direction='both')\n",
    "\n",
    "# Choose the imputed DataFrame\n",
    "imputed_df = transposed_df_imputed_mean\n",
    "\n",
    "print(imputed_df.head())\n",
    "# print(imputed_df['roiIDs'])"
   ]
  },
  {
   "cell_type": "code",
   "execution_count": 65,
   "id": "51363986",
   "metadata": {},
   "outputs": [],
   "source": [
    "import numpy as np\n",
    "import pandas as pd\n",
    "from sklearn.decomposition import PCA\n",
    "from sklearn.preprocessing import StandardScaler\n",
    "\n",
    "def perform_pca(data, n_components=2):\n",
    "    \"\"\"\n",
    "    Perform PCA on the provided data and return the PCA transformed data.\n",
    "    \n",
    "    Parameters:\n",
    "    data (DataFrame or ndarray): Input data for PCA.\n",
    "    n_components (int): Number of principal components to return.\n",
    "    \n",
    "    Returns:\n",
    "    DataFrame: PCA transformed data with specified number of components.\n",
    "    \"\"\"\n",
    "    # Standardize the data\n",
    "    scaler = StandardScaler()\n",
    "    data_scaled = scaler.fit_transform(data)\n",
    "    \n",
    "    # Perform PCA\n",
    "    pca = PCA(n_components=n_components)\n",
    "    principal_components = pca.fit_transform(data_scaled)\n",
    "    \n",
    "    # Convert to DataFrame\n",
    "    columns = [f'PC{i+1}' for i in range(n_components)]\n",
    "    pca_df = pd.DataFrame(data=principal_components, columns=columns)\n",
    "    \n",
    "    return pca_df\n",
    "\n",
    "from sklearn.cluster import KMeans\n",
    "\n",
    "def perform_kmeans(pca_data, n_clusters=3):\n",
    "    \"\"\"\n",
    "    Perform K-means clustering on the PCA transformed data.\n",
    "    \n",
    "    Parameters:\n",
    "    pca_data (DataFrame or ndarray): PCA transformed data.\n",
    "    n_clusters (int): Number of clusters for K-means.\n",
    "    \n",
    "    Returns:\n",
    "    DataFrame: Original PCA data with an additional 'Cluster' column for K-means results.\n",
    "    \"\"\"\n",
    "    kmeans = KMeans(n_clusters=n_clusters)\n",
    "    clusters = kmeans.fit_predict(pca_data)\n",
    "    \n",
    "    pca_data['Cluster'] = clusters\n",
    "    \n",
    "    return pca_data\n",
    "\n",
    "import matplotlib.pyplot as plt\n",
    "\n",
    "def plot_pca(pca_data, title='PCA Results'):\n",
    "    \"\"\"\n",
    "    Plot the PCA results.\n",
    "    \n",
    "    Parameters:\n",
    "    pca_data (DataFrame): PCA transformed data with optional 'group' column for color-coding.\n",
    "    title (str): Title of the plot.\n",
    "    \"\"\"\n",
    "    plt.figure(figsize=(8, 6))\n",
    "    if 'group' in pca_data.columns:\n",
    "        scatter = plt.scatter(pca_data['PC1'], pca_data['PC2'], c=pca_data['group'], cmap='viridis', alpha=0.7)\n",
    "        plt.colorbar(scatter, label='Group')\n",
    "    else:\n",
    "        plt.scatter(pca_data['PC1'], pca_data['PC2'], alpha=0.7)\n",
    "    \n",
    "    plt.title(title)\n",
    "    plt.xlabel('PC1')\n",
    "    plt.ylabel('PC2')\n",
    "    plt.grid(True)\n",
    "    plt.show()\n",
    "\n",
    "def plot_kmeans(pca_data, title='K-means Clustering Results'):\n",
    "    \"\"\"\n",
    "    Plot the K-means clustering results.\n",
    "    \n",
    "    Parameters:\n",
    "    pca_data (DataFrame): PCA transformed data with 'Cluster' column for K-means results.\n",
    "    title (str): Title of the plot.\n",
    "    \"\"\"\n",
    "    plt.figure(figsize=(8, 6))\n",
    "    scatter = plt.scatter(pca_data['PC1'], pca_data['PC2'], c=pca_data['Cluster'], cmap='viridis', alpha=0.7)\n",
    "    plt.colorbar(scatter, label='Cluster')\n",
    "    \n",
    "    plt.title(title)\n",
    "    plt.xlabel('PC1')\n",
    "    plt.ylabel('PC2')\n",
    "    plt.grid(True)\n",
    "    plt.show()\n",
    "\n",
    "\n",
    "\n"
   ]
  },
  {
   "cell_type": "code",
   "execution_count": 73,
   "id": "72baed3a",
   "metadata": {},
   "outputs": [
    {
     "ename": "ValueError",
     "evalue": "at least one array or dtype is required",
     "output_type": "error",
     "traceback": [
      "\u001b[0;31m---------------------------------------------------------------------------\u001b[0m",
      "\u001b[0;31mValueError\u001b[0m                                Traceback (most recent call last)",
      "\u001b[0;32m/var/folders/bh/28kxn85n7dzd4095hz5d9rpnf092bp/T/ipykernel_33755/3872747230.py\u001b[0m in \u001b[0;36m<module>\u001b[0;34m\u001b[0m\n\u001b[1;32m      2\u001b[0m \u001b[0mnumeric_cols\u001b[0m \u001b[0;34m=\u001b[0m \u001b[0mimputed_df\u001b[0m\u001b[0;34m.\u001b[0m\u001b[0mselect_dtypes\u001b[0m\u001b[0;34m(\u001b[0m\u001b[0minclude\u001b[0m\u001b[0;34m=\u001b[0m\u001b[0;34m[\u001b[0m\u001b[0;34m'int64'\u001b[0m\u001b[0;34m,\u001b[0m \u001b[0;34m'float64'\u001b[0m\u001b[0;34m]\u001b[0m\u001b[0;34m)\u001b[0m\u001b[0;34m.\u001b[0m\u001b[0mcolumns\u001b[0m\u001b[0;34m\u001b[0m\u001b[0;34m\u001b[0m\u001b[0m\n\u001b[1;32m      3\u001b[0m \u001b[0mdf_for_pca\u001b[0m \u001b[0;34m=\u001b[0m \u001b[0mimputed_df\u001b[0m\u001b[0;34m[\u001b[0m\u001b[0mnumeric_cols\u001b[0m\u001b[0;34m]\u001b[0m\u001b[0;34m\u001b[0m\u001b[0;34m\u001b[0m\u001b[0m\n\u001b[0;32m----> 4\u001b[0;31m \u001b[0mpca_data\u001b[0m \u001b[0;34m=\u001b[0m \u001b[0mperform_pca\u001b[0m\u001b[0;34m(\u001b[0m\u001b[0mdf_for_pca\u001b[0m\u001b[0;34m)\u001b[0m\u001b[0;34m\u001b[0m\u001b[0;34m\u001b[0m\u001b[0m\n\u001b[0m\u001b[1;32m      5\u001b[0m \u001b[0mprint\u001b[0m\u001b[0;34m(\u001b[0m\u001b[0mnumeric_cols\u001b[0m\u001b[0;34m)\u001b[0m\u001b[0;34m\u001b[0m\u001b[0;34m\u001b[0m\u001b[0m\n\u001b[1;32m      6\u001b[0m \u001b[0mprint\u001b[0m\u001b[0;34m(\u001b[0m\u001b[0mimputed_df\u001b[0m\u001b[0;34m)\u001b[0m\u001b[0;34m\u001b[0m\u001b[0;34m\u001b[0m\u001b[0m\n",
      "\u001b[0;32m/var/folders/bh/28kxn85n7dzd4095hz5d9rpnf092bp/T/ipykernel_33755/311227066.py\u001b[0m in \u001b[0;36mperform_pca\u001b[0;34m(data, n_components)\u001b[0m\n\u001b[1;32m     17\u001b[0m     \u001b[0;31m# Standardize the data\u001b[0m\u001b[0;34m\u001b[0m\u001b[0;34m\u001b[0m\u001b[0m\n\u001b[1;32m     18\u001b[0m     \u001b[0mscaler\u001b[0m \u001b[0;34m=\u001b[0m \u001b[0mStandardScaler\u001b[0m\u001b[0;34m(\u001b[0m\u001b[0;34m)\u001b[0m\u001b[0;34m\u001b[0m\u001b[0;34m\u001b[0m\u001b[0m\n\u001b[0;32m---> 19\u001b[0;31m     \u001b[0mdata_scaled\u001b[0m \u001b[0;34m=\u001b[0m \u001b[0mscaler\u001b[0m\u001b[0;34m.\u001b[0m\u001b[0mfit_transform\u001b[0m\u001b[0;34m(\u001b[0m\u001b[0mdata\u001b[0m\u001b[0;34m)\u001b[0m\u001b[0;34m\u001b[0m\u001b[0;34m\u001b[0m\u001b[0m\n\u001b[0m\u001b[1;32m     20\u001b[0m \u001b[0;34m\u001b[0m\u001b[0m\n\u001b[1;32m     21\u001b[0m     \u001b[0;31m# Perform PCA\u001b[0m\u001b[0;34m\u001b[0m\u001b[0;34m\u001b[0m\u001b[0m\n",
      "\u001b[0;32m~/opt/anaconda3/envs/pyj_napari/lib/python3.9/site-packages/sklearn/base.py\u001b[0m in \u001b[0;36mfit_transform\u001b[0;34m(self, X, y, **fit_params)\u001b[0m\n\u001b[1;32m    697\u001b[0m         \u001b[0;32mif\u001b[0m \u001b[0my\u001b[0m \u001b[0;32mis\u001b[0m \u001b[0;32mNone\u001b[0m\u001b[0;34m:\u001b[0m\u001b[0;34m\u001b[0m\u001b[0;34m\u001b[0m\u001b[0m\n\u001b[1;32m    698\u001b[0m             \u001b[0;31m# fit method of arity 1 (unsupervised transformation)\u001b[0m\u001b[0;34m\u001b[0m\u001b[0;34m\u001b[0m\u001b[0m\n\u001b[0;32m--> 699\u001b[0;31m             \u001b[0;32mreturn\u001b[0m \u001b[0mself\u001b[0m\u001b[0;34m.\u001b[0m\u001b[0mfit\u001b[0m\u001b[0;34m(\u001b[0m\u001b[0mX\u001b[0m\u001b[0;34m,\u001b[0m \u001b[0;34m**\u001b[0m\u001b[0mfit_params\u001b[0m\u001b[0;34m)\u001b[0m\u001b[0;34m.\u001b[0m\u001b[0mtransform\u001b[0m\u001b[0;34m(\u001b[0m\u001b[0mX\u001b[0m\u001b[0;34m)\u001b[0m\u001b[0;34m\u001b[0m\u001b[0;34m\u001b[0m\u001b[0m\n\u001b[0m\u001b[1;32m    700\u001b[0m         \u001b[0;32melse\u001b[0m\u001b[0;34m:\u001b[0m\u001b[0;34m\u001b[0m\u001b[0;34m\u001b[0m\u001b[0m\n\u001b[1;32m    701\u001b[0m             \u001b[0;31m# fit method of arity 2 (supervised transformation)\u001b[0m\u001b[0;34m\u001b[0m\u001b[0;34m\u001b[0m\u001b[0m\n",
      "\u001b[0;32m~/opt/anaconda3/envs/pyj_napari/lib/python3.9/site-packages/sklearn/preprocessing/_data.py\u001b[0m in \u001b[0;36mfit\u001b[0;34m(self, X, y, sample_weight)\u001b[0m\n\u001b[1;32m    728\u001b[0m         \u001b[0;31m# Reset internal state before fitting\u001b[0m\u001b[0;34m\u001b[0m\u001b[0;34m\u001b[0m\u001b[0m\n\u001b[1;32m    729\u001b[0m         \u001b[0mself\u001b[0m\u001b[0;34m.\u001b[0m\u001b[0m_reset\u001b[0m\u001b[0;34m(\u001b[0m\u001b[0;34m)\u001b[0m\u001b[0;34m\u001b[0m\u001b[0;34m\u001b[0m\u001b[0m\n\u001b[0;32m--> 730\u001b[0;31m         \u001b[0;32mreturn\u001b[0m \u001b[0mself\u001b[0m\u001b[0;34m.\u001b[0m\u001b[0mpartial_fit\u001b[0m\u001b[0;34m(\u001b[0m\u001b[0mX\u001b[0m\u001b[0;34m,\u001b[0m \u001b[0my\u001b[0m\u001b[0;34m,\u001b[0m \u001b[0msample_weight\u001b[0m\u001b[0;34m)\u001b[0m\u001b[0;34m\u001b[0m\u001b[0;34m\u001b[0m\u001b[0m\n\u001b[0m\u001b[1;32m    731\u001b[0m \u001b[0;34m\u001b[0m\u001b[0m\n\u001b[1;32m    732\u001b[0m     \u001b[0;32mdef\u001b[0m \u001b[0mpartial_fit\u001b[0m\u001b[0;34m(\u001b[0m\u001b[0mself\u001b[0m\u001b[0;34m,\u001b[0m \u001b[0mX\u001b[0m\u001b[0;34m,\u001b[0m \u001b[0my\u001b[0m\u001b[0;34m=\u001b[0m\u001b[0;32mNone\u001b[0m\u001b[0;34m,\u001b[0m \u001b[0msample_weight\u001b[0m\u001b[0;34m=\u001b[0m\u001b[0;32mNone\u001b[0m\u001b[0;34m)\u001b[0m\u001b[0;34m:\u001b[0m\u001b[0;34m\u001b[0m\u001b[0;34m\u001b[0m\u001b[0m\n",
      "\u001b[0;32m~/opt/anaconda3/envs/pyj_napari/lib/python3.9/site-packages/sklearn/preprocessing/_data.py\u001b[0m in \u001b[0;36mpartial_fit\u001b[0;34m(self, X, y, sample_weight)\u001b[0m\n\u001b[1;32m    764\u001b[0m         \"\"\"\n\u001b[1;32m    765\u001b[0m         \u001b[0mfirst_call\u001b[0m \u001b[0;34m=\u001b[0m \u001b[0;32mnot\u001b[0m \u001b[0mhasattr\u001b[0m\u001b[0;34m(\u001b[0m\u001b[0mself\u001b[0m\u001b[0;34m,\u001b[0m \u001b[0;34m\"n_samples_seen_\"\u001b[0m\u001b[0;34m)\u001b[0m\u001b[0;34m\u001b[0m\u001b[0;34m\u001b[0m\u001b[0m\n\u001b[0;32m--> 766\u001b[0;31m         X = self._validate_data(X, accept_sparse=('csr', 'csc'),\n\u001b[0m\u001b[1;32m    767\u001b[0m                                 \u001b[0mestimator\u001b[0m\u001b[0;34m=\u001b[0m\u001b[0mself\u001b[0m\u001b[0;34m,\u001b[0m \u001b[0mdtype\u001b[0m\u001b[0;34m=\u001b[0m\u001b[0mFLOAT_DTYPES\u001b[0m\u001b[0;34m,\u001b[0m\u001b[0;34m\u001b[0m\u001b[0;34m\u001b[0m\u001b[0m\n\u001b[1;32m    768\u001b[0m                                 force_all_finite='allow-nan', reset=first_call)\n",
      "\u001b[0;32m~/opt/anaconda3/envs/pyj_napari/lib/python3.9/site-packages/sklearn/base.py\u001b[0m in \u001b[0;36m_validate_data\u001b[0;34m(self, X, y, reset, validate_separately, **check_params)\u001b[0m\n\u001b[1;32m    419\u001b[0m             \u001b[0mout\u001b[0m \u001b[0;34m=\u001b[0m \u001b[0mX\u001b[0m\u001b[0;34m\u001b[0m\u001b[0;34m\u001b[0m\u001b[0m\n\u001b[1;32m    420\u001b[0m         \u001b[0;32melif\u001b[0m \u001b[0misinstance\u001b[0m\u001b[0;34m(\u001b[0m\u001b[0my\u001b[0m\u001b[0;34m,\u001b[0m \u001b[0mstr\u001b[0m\u001b[0;34m)\u001b[0m \u001b[0;32mand\u001b[0m \u001b[0my\u001b[0m \u001b[0;34m==\u001b[0m \u001b[0;34m'no_validation'\u001b[0m\u001b[0;34m:\u001b[0m\u001b[0;34m\u001b[0m\u001b[0;34m\u001b[0m\u001b[0m\n\u001b[0;32m--> 421\u001b[0;31m             \u001b[0mX\u001b[0m \u001b[0;34m=\u001b[0m \u001b[0mcheck_array\u001b[0m\u001b[0;34m(\u001b[0m\u001b[0mX\u001b[0m\u001b[0;34m,\u001b[0m \u001b[0;34m**\u001b[0m\u001b[0mcheck_params\u001b[0m\u001b[0;34m)\u001b[0m\u001b[0;34m\u001b[0m\u001b[0;34m\u001b[0m\u001b[0m\n\u001b[0m\u001b[1;32m    422\u001b[0m             \u001b[0mout\u001b[0m \u001b[0;34m=\u001b[0m \u001b[0mX\u001b[0m\u001b[0;34m\u001b[0m\u001b[0;34m\u001b[0m\u001b[0m\n\u001b[1;32m    423\u001b[0m         \u001b[0;32melse\u001b[0m\u001b[0;34m:\u001b[0m\u001b[0;34m\u001b[0m\u001b[0;34m\u001b[0m\u001b[0m\n",
      "\u001b[0;32m~/opt/anaconda3/envs/pyj_napari/lib/python3.9/site-packages/sklearn/utils/validation.py\u001b[0m in \u001b[0;36minner_f\u001b[0;34m(*args, **kwargs)\u001b[0m\n\u001b[1;32m     61\u001b[0m             \u001b[0mextra_args\u001b[0m \u001b[0;34m=\u001b[0m \u001b[0mlen\u001b[0m\u001b[0;34m(\u001b[0m\u001b[0margs\u001b[0m\u001b[0;34m)\u001b[0m \u001b[0;34m-\u001b[0m \u001b[0mlen\u001b[0m\u001b[0;34m(\u001b[0m\u001b[0mall_args\u001b[0m\u001b[0;34m)\u001b[0m\u001b[0;34m\u001b[0m\u001b[0;34m\u001b[0m\u001b[0m\n\u001b[1;32m     62\u001b[0m             \u001b[0;32mif\u001b[0m \u001b[0mextra_args\u001b[0m \u001b[0;34m<=\u001b[0m \u001b[0;36m0\u001b[0m\u001b[0;34m:\u001b[0m\u001b[0;34m\u001b[0m\u001b[0;34m\u001b[0m\u001b[0m\n\u001b[0;32m---> 63\u001b[0;31m                 \u001b[0;32mreturn\u001b[0m \u001b[0mf\u001b[0m\u001b[0;34m(\u001b[0m\u001b[0;34m*\u001b[0m\u001b[0margs\u001b[0m\u001b[0;34m,\u001b[0m \u001b[0;34m**\u001b[0m\u001b[0mkwargs\u001b[0m\u001b[0;34m)\u001b[0m\u001b[0;34m\u001b[0m\u001b[0;34m\u001b[0m\u001b[0m\n\u001b[0m\u001b[1;32m     64\u001b[0m \u001b[0;34m\u001b[0m\u001b[0m\n\u001b[1;32m     65\u001b[0m             \u001b[0;31m# extra_args > 0\u001b[0m\u001b[0;34m\u001b[0m\u001b[0;34m\u001b[0m\u001b[0m\n",
      "\u001b[0;32m~/opt/anaconda3/envs/pyj_napari/lib/python3.9/site-packages/sklearn/utils/validation.py\u001b[0m in \u001b[0;36mcheck_array\u001b[0;34m(array, accept_sparse, accept_large_sparse, dtype, order, copy, force_all_finite, ensure_2d, allow_nd, ensure_min_samples, ensure_min_features, estimator)\u001b[0m\n\u001b[1;32m    595\u001b[0m \u001b[0;34m\u001b[0m\u001b[0m\n\u001b[1;32m    596\u001b[0m         \u001b[0;32mif\u001b[0m \u001b[0mall\u001b[0m\u001b[0;34m(\u001b[0m\u001b[0misinstance\u001b[0m\u001b[0;34m(\u001b[0m\u001b[0mdtype\u001b[0m\u001b[0;34m,\u001b[0m \u001b[0mnp\u001b[0m\u001b[0;34m.\u001b[0m\u001b[0mdtype\u001b[0m\u001b[0;34m)\u001b[0m \u001b[0;32mfor\u001b[0m \u001b[0mdtype\u001b[0m \u001b[0;32min\u001b[0m \u001b[0mdtypes_orig\u001b[0m\u001b[0;34m)\u001b[0m\u001b[0;34m:\u001b[0m\u001b[0;34m\u001b[0m\u001b[0;34m\u001b[0m\u001b[0m\n\u001b[0;32m--> 597\u001b[0;31m             \u001b[0mdtype_orig\u001b[0m \u001b[0;34m=\u001b[0m \u001b[0mnp\u001b[0m\u001b[0;34m.\u001b[0m\u001b[0mresult_type\u001b[0m\u001b[0;34m(\u001b[0m\u001b[0;34m*\u001b[0m\u001b[0mdtypes_orig\u001b[0m\u001b[0;34m)\u001b[0m\u001b[0;34m\u001b[0m\u001b[0;34m\u001b[0m\u001b[0m\n\u001b[0m\u001b[1;32m    598\u001b[0m \u001b[0;34m\u001b[0m\u001b[0m\n\u001b[1;32m    599\u001b[0m     \u001b[0;32mif\u001b[0m \u001b[0mdtype_numeric\u001b[0m\u001b[0;34m:\u001b[0m\u001b[0;34m\u001b[0m\u001b[0;34m\u001b[0m\u001b[0m\n",
      "\u001b[0;31mValueError\u001b[0m: at least one array or dtype is required"
     ]
    }
   ],
   "source": [
    "# Assuming 'data' is your original DataFrame without target columns\n",
    "numeric_cols = imputed_df.select_dtypes(include=['int64', 'float64']).columns\n",
    "df_for_pca = imputed_df[numeric_cols]\n",
    "pca_data = perform_pca(df_for_pca)\n",
    "print(numeric_cols)\n",
    "print(imputed_df)\n",
    "print(df_for_pca)\n",
    "\n",
    "\n",
    "# pca_data_with_clusters = perform_kmeans(pca_data, n_clusters=3)\n",
    "\n",
    "# plot_pca(pca_data_with_clusters, title='PCA with Groups')\n",
    "# plot_kmeans(pca_data_with_clusters, title='K-means Clustering Results')"
   ]
  },
  {
   "cell_type": "code",
   "execution_count": 45,
   "id": "78b2f6b3",
   "metadata": {},
   "outputs": [
    {
     "name": "stdout",
     "output_type": "stream",
     "text": [
      "         PC1        PC2\n",
      "0   0.203618   2.694087\n",
      "1  -2.131094  -2.271799\n",
      "2  -6.766396  -3.385739\n",
      "3  -1.685810  -0.492953\n",
      "4   1.684792   2.512257\n",
      "5  -5.366908  -4.870601\n",
      "6  17.992240  -7.675560\n",
      "7   2.659651  15.161223\n",
      "8  -6.893351  -5.388748\n",
      "9   0.303258   3.717833\n"
     ]
    }
   ],
   "source": [
    "print(pca_data)"
   ]
  },
  {
   "cell_type": "code",
   "execution_count": 46,
   "id": "1f4e1b94",
   "metadata": {},
   "outputs": [],
   "source": [
    "pca_data_with_clusters = perform_kmeans(pca_data, n_clusters=3)"
   ]
  },
  {
   "cell_type": "code",
   "execution_count": 47,
   "id": "e9839b12",
   "metadata": {},
   "outputs": [
    {
     "name": "stdout",
     "output_type": "stream",
     "text": [
      "         PC1        PC2  Cluster\n",
      "0   0.203618   2.694087        1\n",
      "1  -2.131094  -2.271799        0\n",
      "2  -6.766396  -3.385739        0\n",
      "3  -1.685810  -0.492953        0\n",
      "4   1.684792   2.512257        1\n",
      "5  -5.366908  -4.870601        0\n",
      "6  17.992240  -7.675560        2\n",
      "7   2.659651  15.161223        1\n",
      "8  -6.893351  -5.388748        0\n",
      "9   0.303258   3.717833        1\n"
     ]
    }
   ],
   "source": [
    "print(pca_data_with_clusters)"
   ]
  },
  {
   "cell_type": "code",
   "execution_count": 48,
   "id": "36f01206",
   "metadata": {},
   "outputs": [
    {
     "data": {
      "image/png": "[encoded data removed]",
      "text/plain": [
       "<Figure size 576x432 with 1 Axes>"
      ]
     },
     "metadata": {
      "needs_background": "light"
     },
     "output_type": "display_data"
    }
   ],
   "source": [
    "plot_pca(pca_data_with_clusters, title='PCA with Groups')"
   ]
  },
  {
   "cell_type": "code",
   "execution_count": 49,
   "id": "4dde818a",
   "metadata": {},
   "outputs": [
    {
     "data": {
      "image/png": "[encoded data removed]",
      "text/plain": [
       "<Figure size 576x432 with 2 Axes>"
      ]
     },
     "metadata": {
      "needs_background": "light"
     },
     "output_type": "display_data"
    }
   ],
   "source": [
    "plot_kmeans(pca_data_with_clusters, title='K-means Clustering Results')"
   ]
  },
  {
   "cell_type": "code",
   "execution_count": null,
   "id": "36856809",
   "metadata": {},
   "outputs": [],
   "source": []
  }
 ],
 "metadata": {
  "kernelspec": {
   "display_name": "Python 3 (ipykernel)",
   "language": "python",
   "name": "python3"
  },
  "language_info": {
   "codemirror_mode": {
    "name": "ipython",
    "version": 3
   },
   "file_extension": ".py",
   "mimetype": "text/x-python",
   "name": "python",
   "nbconvert_exporter": "python",
   "pygments_lexer": "ipython3",
   "version": "3.9.7"
  }
 },
 "nbformat": 4,
 "nbformat_minor": 5
}
