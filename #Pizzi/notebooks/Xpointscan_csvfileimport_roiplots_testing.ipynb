{
 "cells": [
  {
   "cell_type": "code",
   "execution_count": 13,
   "id": "34bb0c89",
   "metadata": {},
   "outputs": [
    {
     "data": {
      "image/png": "[encoded data removed]",
      "text/plain": [
       "<Figure size 432x288 with 1 Axes>"
      ]
     },
     "metadata": {
      "needs_background": "light"
     },
     "output_type": "display_data"
    }
   ],
   "source": [
    "import matplotlib.pyplot as plt\n",
    "\n",
    "# Your data as a list of (x, y) pairs\n",
    "validXY = [\n",
    "    [-2.1346,  1.7622],\n",
    "    [ 1.7418,  1.0315],\n",
    "    [ 2.7213,  2.0731],\n",
    "    [ 0.6380,  0.2541],\n",
    "    [ 1.3117,  0.1712],\n",
    "    [ 0.1612, -0.7616],\n",
    "    [-0.4296, -0.1708],\n",
    "    [ 0.1508,  0.2023],\n",
    "    [ 1.4257,  2.2960],\n",
    "    [-0.1912, -3.5186]\n",
    "]\n",
    "\n",
    "# Separate the list of pairs into x-values and y-values\n",
    "x_vals = [p[0] for p in validXY]\n",
    "y_vals = [p[1] for p in validXY]\n",
    "\n",
    "# Create the scatter plot\n",
    "plt.scatter(x_vals, y_vals, color='blue', marker='o')\n",
    "\n",
    "# Label axes and title\n",
    "plt.xlabel('X')\n",
    "plt.ylabel('Y')\n",
    "plt.title('Scatter Plot of validXY')\n",
    "\n",
    "# Show the figure\n",
    "plt.show()\n"
   ]
  },
  {
   "cell_type": "code",
   "execution_count": 38,
   "id": "a34579b4",
   "metadata": {},
   "outputs": [
    {
     "data": {
      "image/png": "[encoded data removed]",
      "text/plain": [
       "<Figure size 432x288 with 1 Axes>"
      ]
     },
     "metadata": {
      "needs_background": "light"
     },
     "output_type": "display_data"
    }
   ],
   "source": [
    "import matplotlib.pyplot as plt\n",
    "import matplotlib.patches as patches\n",
    "\n",
    "# The four corner points\n",
    "# corner_points = [\n",
    "#    (-16.2354482255754, -16.8542557444577),\n",
    "#    (15.4644413643944,  -16.5218378774065),\n",
    "#    (15.1228784789087,   16.0785565433380),\n",
    "#    (-14.8579398723619,  16.1366632227080)\n",
    "# ]\n",
    "\n",
    "# from mht01 header.SI.hScan2D.nominalFovCornerPoints  \n",
    "corner_points = [\n",
    "    (-16.5, -16.5),\n",
    "    (16.5, -16.5),\n",
    "    (16.5, 16.5),\n",
    "    (-16.5, 16.5)\n",
    "]\n",
    "\n",
    "\n",
    "\n",
    "# Your data points\n",
    "validXY = [\n",
    "    (-2.1346,  1.7622),\n",
    "    ( 1.7418,  1.0315),\n",
    "    ( 2.7213,  2.0731),\n",
    "    ( 0.6380,  0.2541),\n",
    "    ( 1.3117,  0.1712),\n",
    "    ( 0.1612, -0.7616),\n",
    "    (-0.4296, -0.1708),\n",
    "    ( 0.1508,  0.2023),\n",
    "    ( 1.4257,  2.2960),\n",
    "    (-0.1912, -3.5186)\n",
    "]\n",
    "\n",
    "# roiGroup.displayRois(1, 1).scanfields.transformParams \n",
    "# roiGroup.displayRois(1, 1).scanfields.transformParams.offsetX = -2.1346\n",
    "# roiGroup.displayRois(1, 1).scanfields.transformParams.offsetY = 1.7622\n",
    "# roiGroup.displayRois(1, 1).scanfields.transformParams.scaleX = 2.5\n",
    "# roiGroup.displayRois(1, 1).scanfields.transformParams.scaleY - 2.5\n",
    "# roiGroup.displayRois(1, 1).scanfields.transformParams.rotation\n",
    "# roiGroup.displayRois(1, 1).scanfields.transformParams.shear\n",
    "\n",
    "scale_factor = 2.5\n",
    "\n",
    "# Scale each x and y by 2.5\n",
    "validXY_scaled = [(x * scale_factor, y * scale_factor) for x, y in validXY]\n",
    "\n",
    "# Create a figure and axis\n",
    "fig, ax = plt.subplots()\n",
    "\n",
    "# Create a polygon (unfilled, red outline) from the four corner points\n",
    "polygon = patches.Polygon(corner_points, closed=True, fill=False, edgecolor='red', linewidth=2)\n",
    "ax.add_patch(polygon)\n",
    "\n",
    "# Scatter the (x, y) data\n",
    "x_vals = [p[0] for p in validXY_scaled]\n",
    "y_vals = [1-p[1] for p in validXY_scaled] #note this is inverted/flipped along X-axis\n",
    "ax.scatter(x_vals, y_vals, c='blue', marker='o')\n",
    "\n",
    "# Set axis limits so the polygon is fully visible\n",
    "x_corners = [p[0] for p in corner_points]\n",
    "y_corners = [p[1] for p in corner_points]\n",
    "ax.set_xlim(min(x_corners) - 1, max(x_corners) + 1)\n",
    "ax.set_ylim(min(y_corners) - 1, max(y_corners) + 1)\n",
    "\n",
    "# Labels and title\n",
    "ax.set_xlabel('X')\n",
    "ax.set_ylabel('Y')\n",
    "ax.set_title('Scatter Plot Of validXY_scaled Within nominalFovCornerPoints')\n",
    "\n",
    "plt.show()\n"
   ]
  },
  {
   "cell_type": "code",
   "execution_count": 22,
   "id": "4a001040",
   "metadata": {},
   "outputs": [
    {
     "data": {
      "text/plain": [
       "2.5"
      ]
     },
     "execution_count": 22,
     "metadata": {},
     "output_type": "execute_result"
    }
   ],
   "source": [
    "scale_factor"
   ]
  },
  {
   "cell_type": "code",
   "execution_count": 27,
   "id": "4ddc385c",
   "metadata": {},
   "outputs": [
    {
     "data": {
      "text/plain": [
       "[(-2.1346, 1.7622),\n",
       " (1.7418, 1.0315),\n",
       " (2.7213, 2.0731),\n",
       " (0.638, 0.2541),\n",
       " (1.3117, 0.1712),\n",
       " (0.1612, -0.7616),\n",
       " (-0.4296, -0.1708),\n",
       " (0.1508, 0.2023),\n",
       " (1.4257, 2.296),\n",
       " (-0.1912, -3.5186)]"
      ]
     },
     "execution_count": 27,
     "metadata": {},
     "output_type": "execute_result"
    }
   ],
   "source": [
    "validXY"
   ]
  },
  {
   "cell_type": "code",
   "execution_count": 28,
   "id": "f5dc2fbd",
   "metadata": {},
   "outputs": [
    {
     "data": {
      "text/plain": [
       "[(-5.336499999999999, 4.4055),\n",
       " (4.3545, 2.5787500000000003),\n",
       " (6.803249999999999, 5.18275),\n",
       " (1.595, 0.63525),\n",
       " (3.27925, 0.428),\n",
       " (0.403, -1.9040000000000001),\n",
       " (-1.0739999999999998, -0.42700000000000005),\n",
       " (0.377, 0.50575),\n",
       " (3.56425, 5.739999999999999),\n",
       " (-0.47800000000000004, -8.7965)]"
      ]
     },
     "execution_count": 28,
     "metadata": {},
     "output_type": "execute_result"
    }
   ],
   "source": [
    "validXY_scaled"
   ]
  },
  {
   "cell_type": "code",
   "execution_count": 57,
   "id": "95469fc1",
   "metadata": {},
   "outputs": [
    {
     "data": {
      "image/png": "[encoded data removed]",
      "text/plain": [
       "<Figure size 432x288 with 1 Axes>"
      ]
     },
     "metadata": {
      "needs_background": "light"
     },
     "output_type": "display_data"
    }
   ],
   "source": [
    "import numpy as np\n",
    "import matplotlib.pyplot as plt\n",
    "\n",
    "# -----------------------------------------------\n",
    "# 1. Inputs\n",
    "# -----------------------------------------------\n",
    "\n",
    "# ROI center positions in optical degrees\n",
    "centerXY_deg = np.array([\n",
    "    [-2.13455731800000,  1.76219822100000],\n",
    "    [ 1.74180371700000,  1.03149380000000],\n",
    "    [ 2.72125858500000,  2.07313627200000],\n",
    "    [ 0.637973627100000, 0.254148671200000],\n",
    "    [ 1.31167257500000,  0.171231857500000],\n",
    "    [ 0.161201703100000, -0.761582296900000],\n",
    "    [-0.429580586000000, -0.170799999100000],\n",
    "    [ 0.150837101600000,  0.202325662700000],\n",
    "    [ 1.42568309400000,  2.29597520900000],\n",
    "    [-0.191194707800000, -3.51856635300000]\n",
    "])\n",
    "\n",
    "# Objective resolution from metadata (degrees per micron)\n",
    "# deg_per_um = 0.0334  # Replace with actual value if different\n",
    "# um_per_deg = 1 / deg_per_um\n",
    "deg_per_um = 21.13\n",
    "um_per_deg = 1 / deg_per_um #0.0473\n",
    "\n",
    "\n",
    "# Convert to microns\n",
    "centerXY_um = centerXY_deg * um_per_deg\n",
    "\n",
    "# FOV boundary in microns from metadata\n",
    "fovCorners_um = np.array([\n",
    "    [-97.9282,  -15.5898],\n",
    "    [  7.7218,  -15.5898],\n",
    "    [  7.7218,   90.0602],\n",
    "    [-97.9282,   90.0602]\n",
    "])\n",
    "\n",
    "# -----------------------------------------------\n",
    "# 2. Plot ROIs within the FOV (micron space)\n",
    "# -----------------------------------------------\n",
    "fig, ax = plt.subplots()\n",
    "\n",
    "# Draw the FOV boundary as a closed polygon\n",
    "fov_poly = np.vstack([fovCorners_um, fovCorners_um[0]])  # loop back to start\n",
    "ax.plot(fov_poly[:,0], fov_poly[:,1], 'k-', linewidth=2, label='FOV Boundary')\n",
    "\n",
    "# Plot the ROI centers\n",
    "ax.scatter(centerXY_um[:,0], -centerXY_um[:,1], c='red', s=60, label='ROI Centers')\n",
    "\n",
    "# Label and style\n",
    "ax.set_title('ROI Centers Within FOV (Microns)')\n",
    "ax.set_xlabel('X (µm)')\n",
    "ax.set_ylabel('Y (µm)')\n",
    "ax.set_aspect('equal')\n",
    "ax.legend()\n",
    "ax.grid(True)\n",
    "\n",
    "# Optional: restrict axis to FOV limits with some margin\n",
    "x_margin = 150\n",
    "y_margin = 150\n",
    "ax.set_xlim(fovCorners_um[:,0].min() - x_margin, fovCorners_um[:,0].max() + x_margin)\n",
    "ax.set_ylim(fovCorners_um[:,1].min() - y_margin, fovCorners_um[:,1].max() + y_margin)\n",
    "\n",
    "plt.tight_layout()\n",
    "plt.show()\n"
   ]
  },
  {
   "cell_type": "code",
   "execution_count": 58,
   "id": "358e8913",
   "metadata": {},
   "outputs": [],
   "source": [
    "# Your centerXY values in optical degrees\n",
    "# ROI center positions in optical degrees\n",
    "centerXY_deg = np.array([\n",
    "    [-2.13455731800000,  1.76219822100000],\n",
    "    [ 1.74180371700000,  1.03149380000000],\n",
    "    [ 2.72125858500000,  2.07313627200000],\n",
    "    [ 0.637973627100000, 0.254148671200000],\n",
    "    [ 1.31167257500000,  0.171231857500000],\n",
    "    [ 0.161201703100000, -0.761582296900000],\n",
    "    [-0.429580586000000, -0.170799999100000],\n",
    "    [ 0.150837101600000,  0.202325662700000],\n",
    "    [ 1.42568309400000,  2.29597520900000],\n",
    "    [-0.191194707800000, -3.51856635300000]\n",
    "])\n",
    "\n",
    "\n",
    "\n",
    "# Image dimensions\n",
    "img_width = 512\n",
    "img_height = 512\n",
    "\n",
    "# Imaging FOV in degrees (from metadata)\n",
    "fov_deg_x = [-4.6346, 0.3654]\n",
    "fov_deg_y = [-0.7378, 4.2622]\n",
    "\n",
    "# Convert degrees → pixels\n",
    "pixelXY = np.zeros_like(centerXY_deg)\n",
    "pixelXY[:, 0] = (centerXY_deg[:, 0] - fov_deg_x[0]) / (fov_deg_x[1] - fov_deg_x[0]) * img_width\n",
    "pixelXY[:, 1] = (centerXY_deg[:, 1] - fov_deg_y[0]) / (fov_deg_y[1] - fov_deg_y[0]) * img_height\n",
    "\n",
    "# Flip Y-axis for image-style origin\n",
    "pixelXY[:, 1] = img_height - pixelXY[:, 1] + 1\n",
    "\n",
    "# Round to integers\n",
    "pixelXY = np.round(pixelXY).astype(int)\n"
   ]
  },
  {
   "cell_type": "code",
   "execution_count": 75,
   "id": "84e9ce9a",
   "metadata": {},
   "outputs": [
    {
     "data": {
      "image/png": "[encoded data removed]",
      "text/plain": [
       "<Figure size 432x288 with 1 Axes>"
      ]
     },
     "metadata": {
      "needs_background": "light"
     },
     "output_type": "display_data"
    }
   ],
   "source": [
    "import matplotlib.pyplot as plt\n",
    "\n",
    "plt.figure()\n",
    "plt.imshow(np.zeros((img_height, img_width)), cmap='gray', origin='upper')\n",
    "plt.scatter(pixelXY[:, 0]/2.5, pixelXY[:, 1]/2.5, c='red', s=80)\n",
    "plt.title(\"ROI Centers (Degrees → Pixels)\")\n",
    "plt.xlabel(\"X (pixels)\")\n",
    "plt.ylabel(\"Y (pixels)\")\n",
    "plt.grid(True)\n",
    "plt.xlim(-10, img_width+50)\n",
    "plt.ylim(-10, img_height+50)\n",
    "plt.tight_layout()\n",
    "plt.show()\n"
   ]
  },
  {
   "cell_type": "code",
   "execution_count": 78,
   "id": "19889231",
   "metadata": {},
   "outputs": [
    {
     "name": "stdout",
     "output_type": "stream",
     "text": [
      "coords = newArray(\n",
      "    257, 257, 7,\n",
      "    1, 332, 8,\n",
      "    1, 225, 8,\n",
      "    1, 411, 8,\n",
      "    1, 420, 9,\n",
      "    22, 512, 17,\n",
      "    82, 455, 17,\n",
      "    23, 417, 17,\n",
      "    1, 202, 25,\n",
      "    58, 512, 25\n",
      ");\n"
     ]
    }
   ],
   "source": [
    "# Yes — those pixel values were directly calculated from your centerXY_deg values using the proper\n",
    "# ScanImage metadata, specifically:\n",
    "\n",
    "# The full imaging FOV in optical degrees from:\n",
    "# header.SI.hRoiManager.imagingFovDeg\n",
    "# Image size: 512 × 512\n",
    "# No extra fudge factors — just scaled, then flipped to match image display orientation.\n",
    "\n",
    "import numpy as np\n",
    "\n",
    "# Image size\n",
    "img_size = 512\n",
    "\n",
    "# Verified FOV in optical degrees (from your header.SI.hRoiManager.imagingFovDeg)\n",
    "# X goes from -4.6346 to 0.3654 → 5 degrees width\n",
    "# Y goes from -0.7378 to 4.2622 → 5 degrees height\n",
    "fov_deg_x = (-4.6346, 0.3654)\n",
    "fov_deg_y = (-0.7378, 4.2622)\n",
    "\n",
    "# ROI center positions in optical degrees\n",
    "centerXY_deg = np.array([\n",
    "    [-2.1346,  1.7622],\n",
    "    [ 1.7418,  1.0315],\n",
    "    [ 2.7213,  2.0731],\n",
    "    [ 0.6380,  0.2541],\n",
    "    [ 1.3117,  0.1712],\n",
    "    [ 0.1612, -0.7616],\n",
    "    [-0.4296, -0.1708],\n",
    "    [ 0.1508,  0.2023],\n",
    "    [ 1.4257,  2.2960],\n",
    "    [-0.1912, -3.5186]\n",
    "])\n",
    "\n",
    "# Z values\n",
    "z_values = np.array([7, 8, 8, 8, 9, 17, 17, 17, 25, 25])\n",
    "\n",
    "# Convert from degrees to pixel coordinates\n",
    "pixelX = (centerXY_deg[:, 0] - fov_deg_x[0]) / (fov_deg_x[1] - fov_deg_x[0]) * img_size\n",
    "pixelY = (centerXY_deg[:, 1] - fov_deg_y[0]) / (fov_deg_y[1] - fov_deg_y[0]) * img_size\n",
    "\n",
    "# Flip X and Y for top-left origin\n",
    "pixelX = img_size - pixelX + 1\n",
    "pixelY = img_size - pixelY + 1\n",
    "\n",
    "# Round and clip to image bounds\n",
    "pixelX = np.clip(np.round(pixelX), 1, img_size).astype(int)\n",
    "pixelY = np.clip(np.round(pixelY), 1, img_size).astype(int)\n",
    "\n",
    "# Combine with Z\n",
    "coords = np.column_stack((pixelX, pixelY, z_values))\n",
    "\n",
    "# Output in FIJI format\n",
    "print(\"coords = newArray(\")\n",
    "for i, (x, y, z) in enumerate(coords):\n",
    "    print(f\"    {x}, {y}, {z}\" + (\",\" if i < len(coords) - 1 else \"\"))\n",
    "print(\");\")\n"
   ]
  },
  {
   "cell_type": "code",
   "execution_count": null,
   "id": "c6263b17",
   "metadata": {},
   "outputs": [],
   "source": []
  }
 ],
 "metadata": {
  "kernelspec": {
   "display_name": "Python 3 (ipykernel)",
   "language": "python",
   "name": "python3"
  },
  "language_info": {
   "codemirror_mode": {
    "name": "ipython",
    "version": 3
   },
   "file_extension": ".py",
   "mimetype": "text/x-python",
   "name": "python",
   "nbconvert_exporter": "python",
   "pygments_lexer": "ipython3",
   "version": "3.9.7"
  }
 },
 "nbformat": 4,
 "nbformat_minor": 5
}
