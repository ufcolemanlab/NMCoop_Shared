{
 "cells": [
  {
   "cell_type": "code",
   "execution_count": 2,
   "id": "a8b783dd",
   "metadata": {},
   "outputs": [
    {
     "name": "stdout",
     "output_type": "stream",
     "text": [
      "0     ZT10_16X6x_gg_800nm_m5_roi2_00003_ROIs_classA\n",
      "1     ZT10_16X6x_gg_800nm_m6_roi1_00001_ROIs_classA\n",
      "2     ZT10_16X6x_gg_800nm_m7_roi1_00001_ROIs_classA\n",
      "3     ZT10_16X6x_gg_800nm_m9_roi1_00002_ROIs_classA\n",
      "4    ZT10_16X6x_gg_800nm_m10_roi1_00001_ROIs_classA\n",
      "5    ZT10_16X6x_gg_800nm_m11_roi1_00001_ROIs_classA\n",
      "6    ZT10_16X6x_gg_800nm_m12_roi1_00001_ROIs_classA\n",
      "7    ZT10_16X6x_gg_800nm_m13_roi1_00002_ROIs_classA\n",
      "8    ZT10_16X6x_gg_800nm_m15_roi1_00001_ROIs_classA\n",
      "9    ZT10_16X6x_gg_800nm_m16_roi1_00001_ROIs_classA\n",
      "Name: filename, dtype: object\n",
      "0    A\n",
      "1    A\n",
      "2    B\n",
      "3    A\n",
      "4    A\n",
      "5    A\n",
      "6    A\n",
      "7    B\n",
      "8    B\n",
      "9    B\n",
      "Name: group, dtype: object\n"
     ]
    }
   ],
   "source": [
    "# Cleaned up code for parsing by vessel type logicals 9-17-24\n",
    "# To use for diff vars, comment out # section for 'metric1' and 'metric2' to handle 2 vars at a time\n",
    "# Then plotting boxplots for each type for 2 groups\n",
    "\n",
    "import pandas as pd\n",
    "import matplotlib.pyplot as plt\n",
    "import seaborn as sns\n",
    "import numpy as np\n",
    "\n",
    "# Optional for statistics\n",
    "from scipy import stats\n",
    "\n",
    "# Load the CSV file\n",
    "pathname = '/Users/jcoleman/Documents/--LARGE DATA--/#Pizzi/TBI-sham leak analysis/scripts/matlab-copy/September 2024/'\n",
    "filename = 'analysisData_091724.csv'\n",
    "df = pd.read_csv(pathname+filename)\n",
    "\n",
    "print(df['filename'])\n",
    "print(df['group'])\n",
    "# Basic analysis: means, std, etc.\n",
    "#group_means = df.groupby('group')['meanFWHM'].mean()"
   ]
  },
  {
   "cell_type": "code",
   "execution_count": null,
   "id": "771b79dd",
   "metadata": {},
   "outputs": [],
   "source": []
  },
  {
   "cell_type": "code",
   "execution_count": 21,
   "id": "72eac057",
   "metadata": {},
   "outputs": [
    {
     "name": "stdout",
     "output_type": "stream",
     "text": [
      "   meanFWHM  meanFeFv group vessel_type  \\\n",
      "0  3.740378  0.301351     A   capillary   \n",
      "1  5.886713  0.222588     A   capillary   \n",
      "2  4.979717  0.328346     A   capillary   \n",
      "3  3.977697  0.338031     A   capillary   \n",
      "4  6.396367  2.357960     A   capillary   \n",
      "\n",
      "                                         filename  \n",
      "0   ZT10_16X6x_gg_800nm_m5_roi2_00003_ROIs_classA  \n",
      "1   ZT10_16X6x_gg_800nm_m6_roi1_00001_ROIs_classA  \n",
      "2   ZT10_16X6x_gg_800nm_m9_roi1_00002_ROIs_classA  \n",
      "3  ZT10_16X6x_gg_800nm_m10_roi1_00001_ROIs_classA  \n",
      "4  ZT10_16X6x_gg_800nm_m11_roi1_00001_ROIs_classA  \n",
      "0       A\n",
      "1       A\n",
      "2       A\n",
      "3       A\n",
      "4       A\n",
      "       ..\n",
      "7675    B\n",
      "7676    B\n",
      "7677    B\n",
      "7678    B\n",
      "7679    B\n",
      "Name: group, Length: 7680, dtype: object\n",
      "0       capillary\n",
      "1       capillary\n",
      "2       capillary\n",
      "3       capillary\n",
      "4       capillary\n",
      "          ...    \n",
      "7675    arteriole\n",
      "7676    arteriole\n",
      "7677    arteriole\n",
      "7678    arteriole\n",
      "7679    arteriole\n",
      "Name: vessel_type, Length: 7680, dtype: object\n"
     ]
    }
   ],
   "source": [
    "# function new - new df for box plots etc\n",
    "\n",
    "def filter_dataframe(df, metric_prefix, second_metric_prefix, logical_prefix, group, vessel_type):\n",
    "    \"\"\"\n",
    "    Filters the DataFrame to return all relevant rows for a specific group and metric columns \n",
    "    based on corresponding logical columns being 1, and assigns vessel_type.\n",
    "\n",
    "    Parameters:\n",
    "    df (pd.DataFrame): The input DataFrame.\n",
    "    metric_prefix (str): The prefix for the first metric column (e.g., 'meanFWHM').\n",
    "    second_metric_prefix (str): The prefix for the second metric column (e.g., 'meanFeFv').\n",
    "    logical_prefix (str): The prefix for logical columns (e.g., 'capLogical').\n",
    "    group (str): The group ID (e.g., 'A', 'B') for row filtering.\n",
    "    vessel_type (str): The vessel type to assign (e.g., 'capillary', 'venule').\n",
    "\n",
    "    Returns:\n",
    "    pd.DataFrame: A filtered DataFrame with all metric columns, group, vessel_type.\n",
    "    \"\"\"\n",
    "    # Filter rows based on the group\n",
    "    filtered_df = df[df['group'] == group]\n",
    "\n",
    "    # Get metric and logical columns\n",
    "    metric_columns = [col for col in df.columns if col.startswith(metric_prefix)]\n",
    "    second_metric_columns = [col for col in df.columns if col.startswith(second_metric_prefix)]\n",
    "    logical_columns = [col for col in df.columns if col.startswith(logical_prefix)]\n",
    "\n",
    "    # Initialize result DataFrame to store all relevant rows\n",
    "    results = []\n",
    "\n",
    "    # For each logical column, check where the logical is 1 and gather metrics for those rows\n",
    "    for logical_col in logical_columns:\n",
    "        condition_df = filtered_df[filtered_df[logical_col] == 1]\n",
    "\n",
    "        # Gather corresponding metric columns\n",
    "        if not condition_df.empty:\n",
    "            for metric_col, second_metric_col in zip(metric_columns, second_metric_columns):\n",
    "                result_part = pd.DataFrame({\n",
    "                    metric_prefix: condition_df[metric_col],\n",
    "                    second_metric_prefix: condition_df[second_metric_col],\n",
    "                    'group': group,\n",
    "                    'vessel_type': vessel_type,\n",
    "                    'filename': condition_df['filename']\n",
    "                })\n",
    "                results.append(result_part)\n",
    "\n",
    "    # Concatenate all the parts and return as a single DataFrame\n",
    "    return pd.concat(results, ignore_index=True) if results else pd.DataFrame()\n",
    "\n",
    "metric1='meanFWHM'\n",
    "metric2='meanFeFv'\n",
    "\n",
    "\n",
    "# EXAMPLE USE - without metric name options\n",
    "# Filter for capillary in group A\n",
    "filtered_resultA_cap = filter_dataframe(df, metric1, metric2, 'capLogical', 'A', 'capillary')\n",
    "\n",
    "# Filter for venule in group A\n",
    "filtered_resultA_ven = filter_dataframe(df, metric1, metric2, 'venLogical', 'A', 'venule')\n",
    "\n",
    "# Filter for arteriole in group A\n",
    "filtered_resultA_art = filter_dataframe(df, metric1, metric2, 'artLogical', 'A', 'arteriole')\n",
    "\n",
    "# Similarly for group B\n",
    "filtered_resultB_cap = filter_dataframe(df, metric1, metric2, 'capLogical', 'B', 'capillary')\n",
    "filtered_resultB_ven = filter_dataframe(df, metric1, metric2, 'venLogical', 'B', 'venule')\n",
    "filtered_resultB_art = filter_dataframe(df, metric1, metric2, 'artLogical', 'B', 'arteriole')\n",
    "\n",
    "# Concatenate all filtered results into one dataframe\n",
    "final_df = pd.concat([filtered_resultA_cap, filtered_resultB_cap, \n",
    "                      filtered_resultA_ven, filtered_resultB_ven, \n",
    "                      filtered_resultA_art, filtered_resultB_art], ignore_index=True)\n",
    "\n",
    "print(final_df.head())\n",
    "\n",
    "# print(final_df['meanFWHM'])\n",
    "print(final_df['group'])\n",
    "print(final_df['vessel_type'])\n",
    "\n",
    "\n",
    "# You can continue for other vessel types (e.g., venuleLogical, artLogical)\n"
   ]
  },
  {
   "cell_type": "code",
   "execution_count": 31,
   "id": "9580de2c",
   "metadata": {},
   "outputs": [
    {
     "ename": "ValueError",
     "evalue": "Could not interpret input 'meanFWHM'",
     "output_type": "error",
     "traceback": [
      "\u001b[0;31m---------------------------------------------------------------------------\u001b[0m",
      "\u001b[0;31mValueError\u001b[0m                                Traceback (most recent call last)",
      "\u001b[0;32m/var/folders/bh/28kxn85n7dzd4095hz5d9rpnf092bp/T/ipykernel_28928/1421893792.py\u001b[0m in \u001b[0;36m<module>\u001b[0;34m\u001b[0m\n\u001b[1;32m      4\u001b[0m \u001b[0;34m\u001b[0m\u001b[0m\n\u001b[1;32m      5\u001b[0m \u001b[0mplt\u001b[0m\u001b[0;34m.\u001b[0m\u001b[0mfigure\u001b[0m\u001b[0;34m(\u001b[0m\u001b[0mfigsize\u001b[0m\u001b[0;34m=\u001b[0m\u001b[0;34m(\u001b[0m\u001b[0;36m10\u001b[0m\u001b[0;34m,\u001b[0m \u001b[0;36m6\u001b[0m\u001b[0;34m)\u001b[0m\u001b[0;34m)\u001b[0m\u001b[0;34m\u001b[0m\u001b[0;34m\u001b[0m\u001b[0m\n\u001b[0;32m----> 6\u001b[0;31m \u001b[0msns\u001b[0m\u001b[0;34m.\u001b[0m\u001b[0mboxplot\u001b[0m\u001b[0;34m(\u001b[0m\u001b[0mx\u001b[0m\u001b[0;34m=\u001b[0m\u001b[0;34m'group'\u001b[0m\u001b[0;34m,\u001b[0m \u001b[0my\u001b[0m\u001b[0;34m=\u001b[0m\u001b[0mmetric1\u001b[0m\u001b[0;34m,\u001b[0m \u001b[0mhue\u001b[0m\u001b[0;34m=\u001b[0m\u001b[0;34m'vessel_type'\u001b[0m\u001b[0;34m,\u001b[0m \u001b[0mdata\u001b[0m\u001b[0;34m=\u001b[0m\u001b[0mfinal_df\u001b[0m\u001b[0;34m)\u001b[0m\u001b[0;34m\u001b[0m\u001b[0;34m\u001b[0m\u001b[0m\n\u001b[0m\u001b[1;32m      7\u001b[0m \u001b[0mplt\u001b[0m\u001b[0;34m.\u001b[0m\u001b[0mtitle\u001b[0m\u001b[0;34m(\u001b[0m\u001b[0mmetric1\u001b[0m \u001b[0;34m+\u001b[0m \u001b[0;34m' Distribution by Vessel Type and Group'\u001b[0m\u001b[0;34m)\u001b[0m\u001b[0;34m\u001b[0m\u001b[0;34m\u001b[0m\u001b[0m\n\u001b[1;32m      8\u001b[0m \u001b[0mplt\u001b[0m\u001b[0;34m.\u001b[0m\u001b[0mxlabel\u001b[0m\u001b[0;34m(\u001b[0m\u001b[0;34m'Group'\u001b[0m\u001b[0;34m)\u001b[0m\u001b[0;34m\u001b[0m\u001b[0;34m\u001b[0m\u001b[0m\n",
      "\u001b[0;32m~/opt/anaconda3/envs/pyj_napari/lib/python3.9/site-packages/seaborn/_decorators.py\u001b[0m in \u001b[0;36minner_f\u001b[0;34m(*args, **kwargs)\u001b[0m\n\u001b[1;32m     44\u001b[0m             )\n\u001b[1;32m     45\u001b[0m         \u001b[0mkwargs\u001b[0m\u001b[0;34m.\u001b[0m\u001b[0mupdate\u001b[0m\u001b[0;34m(\u001b[0m\u001b[0;34m{\u001b[0m\u001b[0mk\u001b[0m\u001b[0;34m:\u001b[0m \u001b[0marg\u001b[0m \u001b[0;32mfor\u001b[0m \u001b[0mk\u001b[0m\u001b[0;34m,\u001b[0m \u001b[0marg\u001b[0m \u001b[0;32min\u001b[0m \u001b[0mzip\u001b[0m\u001b[0;34m(\u001b[0m\u001b[0msig\u001b[0m\u001b[0;34m.\u001b[0m\u001b[0mparameters\u001b[0m\u001b[0;34m,\u001b[0m \u001b[0margs\u001b[0m\u001b[0;34m)\u001b[0m\u001b[0;34m}\u001b[0m\u001b[0;34m)\u001b[0m\u001b[0;34m\u001b[0m\u001b[0;34m\u001b[0m\u001b[0m\n\u001b[0;32m---> 46\u001b[0;31m         \u001b[0;32mreturn\u001b[0m \u001b[0mf\u001b[0m\u001b[0;34m(\u001b[0m\u001b[0;34m**\u001b[0m\u001b[0mkwargs\u001b[0m\u001b[0;34m)\u001b[0m\u001b[0;34m\u001b[0m\u001b[0;34m\u001b[0m\u001b[0m\n\u001b[0m\u001b[1;32m     47\u001b[0m     \u001b[0;32mreturn\u001b[0m \u001b[0minner_f\u001b[0m\u001b[0;34m\u001b[0m\u001b[0;34m\u001b[0m\u001b[0m\n\u001b[1;32m     48\u001b[0m \u001b[0;34m\u001b[0m\u001b[0m\n",
      "\u001b[0;32m~/opt/anaconda3/envs/pyj_napari/lib/python3.9/site-packages/seaborn/categorical.py\u001b[0m in \u001b[0;36mboxplot\u001b[0;34m(x, y, hue, data, order, hue_order, orient, color, palette, saturation, width, dodge, fliersize, linewidth, whis, ax, **kwargs)\u001b[0m\n\u001b[1;32m   2241\u001b[0m ):\n\u001b[1;32m   2242\u001b[0m \u001b[0;34m\u001b[0m\u001b[0m\n\u001b[0;32m-> 2243\u001b[0;31m     plotter = _BoxPlotter(x, y, hue, data, order, hue_order,\n\u001b[0m\u001b[1;32m   2244\u001b[0m                           \u001b[0morient\u001b[0m\u001b[0;34m,\u001b[0m \u001b[0mcolor\u001b[0m\u001b[0;34m,\u001b[0m \u001b[0mpalette\u001b[0m\u001b[0;34m,\u001b[0m \u001b[0msaturation\u001b[0m\u001b[0;34m,\u001b[0m\u001b[0;34m\u001b[0m\u001b[0;34m\u001b[0m\u001b[0m\n\u001b[1;32m   2245\u001b[0m                           width, dodge, fliersize, linewidth)\n",
      "\u001b[0;32m~/opt/anaconda3/envs/pyj_napari/lib/python3.9/site-packages/seaborn/categorical.py\u001b[0m in \u001b[0;36m__init__\u001b[0;34m(self, x, y, hue, data, order, hue_order, orient, color, palette, saturation, width, dodge, fliersize, linewidth)\u001b[0m\n\u001b[1;32m    404\u001b[0m                  width, dodge, fliersize, linewidth):\n\u001b[1;32m    405\u001b[0m \u001b[0;34m\u001b[0m\u001b[0m\n\u001b[0;32m--> 406\u001b[0;31m         \u001b[0mself\u001b[0m\u001b[0;34m.\u001b[0m\u001b[0mestablish_variables\u001b[0m\u001b[0;34m(\u001b[0m\u001b[0mx\u001b[0m\u001b[0;34m,\u001b[0m \u001b[0my\u001b[0m\u001b[0;34m,\u001b[0m \u001b[0mhue\u001b[0m\u001b[0;34m,\u001b[0m \u001b[0mdata\u001b[0m\u001b[0;34m,\u001b[0m \u001b[0morient\u001b[0m\u001b[0;34m,\u001b[0m \u001b[0morder\u001b[0m\u001b[0;34m,\u001b[0m \u001b[0mhue_order\u001b[0m\u001b[0;34m)\u001b[0m\u001b[0;34m\u001b[0m\u001b[0;34m\u001b[0m\u001b[0m\n\u001b[0m\u001b[1;32m    407\u001b[0m         \u001b[0mself\u001b[0m\u001b[0;34m.\u001b[0m\u001b[0mestablish_colors\u001b[0m\u001b[0;34m(\u001b[0m\u001b[0mcolor\u001b[0m\u001b[0;34m,\u001b[0m \u001b[0mpalette\u001b[0m\u001b[0;34m,\u001b[0m \u001b[0msaturation\u001b[0m\u001b[0;34m)\u001b[0m\u001b[0;34m\u001b[0m\u001b[0;34m\u001b[0m\u001b[0m\n\u001b[1;32m    408\u001b[0m \u001b[0;34m\u001b[0m\u001b[0m\n",
      "\u001b[0;32m~/opt/anaconda3/envs/pyj_napari/lib/python3.9/site-packages/seaborn/categorical.py\u001b[0m in \u001b[0;36mestablish_variables\u001b[0;34m(self, x, y, hue, data, orient, order, hue_order, units)\u001b[0m\n\u001b[1;32m    151\u001b[0m                 \u001b[0;32mif\u001b[0m \u001b[0misinstance\u001b[0m\u001b[0;34m(\u001b[0m\u001b[0mvar\u001b[0m\u001b[0;34m,\u001b[0m \u001b[0mstr\u001b[0m\u001b[0;34m)\u001b[0m\u001b[0;34m:\u001b[0m\u001b[0;34m\u001b[0m\u001b[0;34m\u001b[0m\u001b[0m\n\u001b[1;32m    152\u001b[0m                     \u001b[0merr\u001b[0m \u001b[0;34m=\u001b[0m \u001b[0;34m\"Could not interpret input '{}'\"\u001b[0m\u001b[0;34m.\u001b[0m\u001b[0mformat\u001b[0m\u001b[0;34m(\u001b[0m\u001b[0mvar\u001b[0m\u001b[0;34m)\u001b[0m\u001b[0;34m\u001b[0m\u001b[0;34m\u001b[0m\u001b[0m\n\u001b[0;32m--> 153\u001b[0;31m                     \u001b[0;32mraise\u001b[0m \u001b[0mValueError\u001b[0m\u001b[0;34m(\u001b[0m\u001b[0merr\u001b[0m\u001b[0;34m)\u001b[0m\u001b[0;34m\u001b[0m\u001b[0;34m\u001b[0m\u001b[0m\n\u001b[0m\u001b[1;32m    154\u001b[0m \u001b[0;34m\u001b[0m\u001b[0m\n\u001b[1;32m    155\u001b[0m             \u001b[0;31m# Figure out the plotting orientation\u001b[0m\u001b[0;34m\u001b[0m\u001b[0;34m\u001b[0m\u001b[0m\n",
      "\u001b[0;31mValueError\u001b[0m: Could not interpret input 'meanFWHM'"
     ]
    },
    {
     "data": {
      "text/plain": [
       "<Figure size 720x432 with 0 Axes>"
      ]
     },
     "metadata": {},
     "output_type": "display_data"
    }
   ],
   "source": [
    "# get stdev values etc\n",
    "metric1='meanFWHM'\n",
    "metric2='meanFeFv'\n",
    "\n",
    "plt.figure(figsize=(10, 6))\n",
    "sns.boxplot(x='group', y=metric1, hue='vessel_type', data=final_df)\n",
    "plt.title(metric1 + ' Distribution by Vessel Type and Group')\n",
    "plt.xlabel('Group')\n",
    "plt.ylabel(metric1)\n",
    "plt.legend(title='Vessel Type', loc='upper right')\n",
    "\n",
    "figure_filename = metric1 + ' Distribution by Vessel Type and Group_091727a'\n",
    "# Save the plot as a PDF file\n",
    "plt.savefig(figure_filename + '.pdf', format='pdf', dpi=300) #, bbox_inches='tight')\n",
    "\n",
    "plt.show()\n"
   ]
  },
  {
   "cell_type": "code",
   "execution_count": 23,
   "id": "5f37a318",
   "metadata": {},
   "outputs": [
    {
     "data": {
      "image/png": "[encoded data removed]",
      "text/plain": [
       "<Figure size 720x432 with 1 Axes>"
      ]
     },
     "metadata": {
      "needs_background": "light"
     },
     "output_type": "display_data"
    }
   ],
   "source": [
    "plt.figure(figsize=(10, 6))\n",
    "sns.boxplot(x='group', y='meanFeFv', hue='vessel_type', data=final_df)\n",
    "plt.title('Fe/Fv Distribution by Vessel Type and Group')\n",
    "plt.xlabel('Group')\n",
    "plt.ylabel('meanFeFv')\n",
    "plt.legend(title='Vessel Type', loc='upper right')\n",
    "# plt.legend(bars, ['Group A', 'Group B'], frameon=False, loc='best')\n",
    "\n",
    "figure_filename = 'FeFv Distribution by Vessel Type and Group_091727a'\n",
    "# Save the plot as a PDF file\n",
    "plt.savefig(figure_filename + '.pdf', format='pdf', dpi=300) #, bbox_inches='tight')\n",
    "\n",
    "plt.show()"
   ]
  },
  {
   "cell_type": "code",
   "execution_count": 29,
   "id": "417724e5",
   "metadata": {},
   "outputs": [
    {
     "name": "stdout",
     "output_type": "stream",
     "text": [
      "   stdevFWHM  stdevFeFv group vessel_type  \\\n",
      "0   0.120027   0.088444     A   capillary   \n",
      "1   0.134211   0.057162     A   capillary   \n",
      "2   0.202292   0.083884     A   capillary   \n",
      "3   0.085332   0.062317     A   capillary   \n",
      "4   0.196553   0.489580     A   capillary   \n",
      "\n",
      "                                         filename  \n",
      "0   ZT10_16X6x_gg_800nm_m5_roi2_00003_ROIs_classA  \n",
      "1   ZT10_16X6x_gg_800nm_m6_roi1_00001_ROIs_classA  \n",
      "2   ZT10_16X6x_gg_800nm_m9_roi1_00002_ROIs_classA  \n",
      "3  ZT10_16X6x_gg_800nm_m10_roi1_00001_ROIs_classA  \n",
      "4  ZT10_16X6x_gg_800nm_m11_roi1_00001_ROIs_classA  \n",
      "0       A\n",
      "1       A\n",
      "2       A\n",
      "3       A\n",
      "4       A\n",
      "       ..\n",
      "7675    B\n",
      "7676    B\n",
      "7677    B\n",
      "7678    B\n",
      "7679    B\n",
      "Name: group, Length: 7680, dtype: object\n",
      "0       capillary\n",
      "1       capillary\n",
      "2       capillary\n",
      "3       capillary\n",
      "4       capillary\n",
      "          ...    \n",
      "7675    arteriole\n",
      "7676    arteriole\n",
      "7677    arteriole\n",
      "7678    arteriole\n",
      "7679    arteriole\n",
      "Name: vessel_type, Length: 7680, dtype: object\n"
     ]
    }
   ],
   "source": [
    "# get stdev values etc\n",
    "metric1='stdevFWHM'\n",
    "metric2='stdevFeFv'\n",
    "\n",
    "# EXAMPLE USE - without metric name options\n",
    "# Filter for capillary in group A\n",
    "filtered_resultA_cap = filter_dataframe(df, metric1, metric2, 'capLogical', 'A', 'capillary')\n",
    "\n",
    "# Filter for venule in group A\n",
    "filtered_resultA_ven = filter_dataframe(df, metric1, metric2, 'venLogical', 'A', 'venule')\n",
    "\n",
    "# Filter for arteriole in group A\n",
    "filtered_resultA_art = filter_dataframe(df, metric1, metric2, 'artLogical', 'A', 'arteriole')\n",
    "\n",
    "# Similarly for group B\n",
    "filtered_resultB_cap = filter_dataframe(df, metric1, metric2, 'capLogical', 'B', 'capillary')\n",
    "filtered_resultB_ven = filter_dataframe(df, metric1, metric2, 'venLogical', 'B', 'venule')\n",
    "filtered_resultB_art = filter_dataframe(df, metric1, metric2, 'artLogical', 'B', 'arteriole')\n",
    "\n",
    "# Concatenate all filtered results into one dataframe\n",
    "final_df = pd.concat([filtered_resultA_cap, filtered_resultB_cap, \n",
    "                      filtered_resultA_ven, filtered_resultB_ven, \n",
    "                      filtered_resultA_art, filtered_resultB_art], ignore_index=True)\n",
    "\n",
    "print(final_df.head())\n",
    "\n",
    "# print(final_df['meanFWHM'])\n",
    "print(final_df['group'])\n",
    "print(final_df['vessel_type'])\n",
    "\n",
    "final_df.to_csv('filename.csv', index=False)"
   ]
  },
  {
   "cell_type": "code",
   "execution_count": 33,
   "id": "1fdc1d7e",
   "metadata": {},
   "outputs": [
    {
     "ename": "ValueError",
     "evalue": "Could not interpret input 'meanFeFv'",
     "output_type": "error",
     "traceback": [
      "\u001b[0;31m---------------------------------------------------------------------------\u001b[0m",
      "\u001b[0;31mValueError\u001b[0m                                Traceback (most recent call last)",
      "\u001b[0;32m/var/folders/bh/28kxn85n7dzd4095hz5d9rpnf092bp/T/ipykernel_28928/674090658.py\u001b[0m in \u001b[0;36m<module>\u001b[0;34m\u001b[0m\n\u001b[1;32m      2\u001b[0m \u001b[0;34m\u001b[0m\u001b[0m\n\u001b[1;32m      3\u001b[0m \u001b[0mplt\u001b[0m\u001b[0;34m.\u001b[0m\u001b[0mfigure\u001b[0m\u001b[0;34m(\u001b[0m\u001b[0mfigsize\u001b[0m\u001b[0;34m=\u001b[0m\u001b[0;34m(\u001b[0m\u001b[0;36m10\u001b[0m\u001b[0;34m,\u001b[0m \u001b[0;36m6\u001b[0m\u001b[0;34m)\u001b[0m\u001b[0;34m)\u001b[0m\u001b[0;34m\u001b[0m\u001b[0;34m\u001b[0m\u001b[0m\n\u001b[0;32m----> 4\u001b[0;31m \u001b[0msns\u001b[0m\u001b[0;34m.\u001b[0m\u001b[0mboxplot\u001b[0m\u001b[0;34m(\u001b[0m\u001b[0mx\u001b[0m\u001b[0;34m=\u001b[0m\u001b[0;34m'group'\u001b[0m\u001b[0;34m,\u001b[0m \u001b[0my\u001b[0m\u001b[0;34m=\u001b[0m\u001b[0;34m'meanFeFv'\u001b[0m\u001b[0;34m,\u001b[0m \u001b[0mhue\u001b[0m\u001b[0;34m=\u001b[0m\u001b[0;34m'vessel_type'\u001b[0m\u001b[0;34m,\u001b[0m \u001b[0mdata\u001b[0m\u001b[0;34m=\u001b[0m\u001b[0mfinal_df\u001b[0m\u001b[0;34m)\u001b[0m\u001b[0;34m\u001b[0m\u001b[0;34m\u001b[0m\u001b[0m\n\u001b[0m\u001b[1;32m      5\u001b[0m \u001b[0mplt\u001b[0m\u001b[0;34m.\u001b[0m\u001b[0mtitle\u001b[0m\u001b[0;34m(\u001b[0m\u001b[0;34m'Fe/Fv Distribution by Vessel Type and Group'\u001b[0m\u001b[0;34m)\u001b[0m\u001b[0;34m\u001b[0m\u001b[0;34m\u001b[0m\u001b[0m\n\u001b[1;32m      6\u001b[0m \u001b[0mplt\u001b[0m\u001b[0;34m.\u001b[0m\u001b[0mxlabel\u001b[0m\u001b[0;34m(\u001b[0m\u001b[0;34m'Group'\u001b[0m\u001b[0;34m)\u001b[0m\u001b[0;34m\u001b[0m\u001b[0;34m\u001b[0m\u001b[0m\n",
      "\u001b[0;32m~/opt/anaconda3/envs/pyj_napari/lib/python3.9/site-packages/seaborn/_decorators.py\u001b[0m in \u001b[0;36minner_f\u001b[0;34m(*args, **kwargs)\u001b[0m\n\u001b[1;32m     44\u001b[0m             )\n\u001b[1;32m     45\u001b[0m         \u001b[0mkwargs\u001b[0m\u001b[0;34m.\u001b[0m\u001b[0mupdate\u001b[0m\u001b[0;34m(\u001b[0m\u001b[0;34m{\u001b[0m\u001b[0mk\u001b[0m\u001b[0;34m:\u001b[0m \u001b[0marg\u001b[0m \u001b[0;32mfor\u001b[0m \u001b[0mk\u001b[0m\u001b[0;34m,\u001b[0m \u001b[0marg\u001b[0m \u001b[0;32min\u001b[0m \u001b[0mzip\u001b[0m\u001b[0;34m(\u001b[0m\u001b[0msig\u001b[0m\u001b[0;34m.\u001b[0m\u001b[0mparameters\u001b[0m\u001b[0;34m,\u001b[0m \u001b[0margs\u001b[0m\u001b[0;34m)\u001b[0m\u001b[0;34m}\u001b[0m\u001b[0;34m)\u001b[0m\u001b[0;34m\u001b[0m\u001b[0;34m\u001b[0m\u001b[0m\n\u001b[0;32m---> 46\u001b[0;31m         \u001b[0;32mreturn\u001b[0m \u001b[0mf\u001b[0m\u001b[0;34m(\u001b[0m\u001b[0;34m**\u001b[0m\u001b[0mkwargs\u001b[0m\u001b[0;34m)\u001b[0m\u001b[0;34m\u001b[0m\u001b[0;34m\u001b[0m\u001b[0m\n\u001b[0m\u001b[1;32m     47\u001b[0m     \u001b[0;32mreturn\u001b[0m \u001b[0minner_f\u001b[0m\u001b[0;34m\u001b[0m\u001b[0;34m\u001b[0m\u001b[0m\n\u001b[1;32m     48\u001b[0m \u001b[0;34m\u001b[0m\u001b[0m\n",
      "\u001b[0;32m~/opt/anaconda3/envs/pyj_napari/lib/python3.9/site-packages/seaborn/categorical.py\u001b[0m in \u001b[0;36mboxplot\u001b[0;34m(x, y, hue, data, order, hue_order, orient, color, palette, saturation, width, dodge, fliersize, linewidth, whis, ax, **kwargs)\u001b[0m\n\u001b[1;32m   2241\u001b[0m ):\n\u001b[1;32m   2242\u001b[0m \u001b[0;34m\u001b[0m\u001b[0m\n\u001b[0;32m-> 2243\u001b[0;31m     plotter = _BoxPlotter(x, y, hue, data, order, hue_order,\n\u001b[0m\u001b[1;32m   2244\u001b[0m                           \u001b[0morient\u001b[0m\u001b[0;34m,\u001b[0m \u001b[0mcolor\u001b[0m\u001b[0;34m,\u001b[0m \u001b[0mpalette\u001b[0m\u001b[0;34m,\u001b[0m \u001b[0msaturation\u001b[0m\u001b[0;34m,\u001b[0m\u001b[0;34m\u001b[0m\u001b[0;34m\u001b[0m\u001b[0m\n\u001b[1;32m   2245\u001b[0m                           width, dodge, fliersize, linewidth)\n",
      "\u001b[0;32m~/opt/anaconda3/envs/pyj_napari/lib/python3.9/site-packages/seaborn/categorical.py\u001b[0m in \u001b[0;36m__init__\u001b[0;34m(self, x, y, hue, data, order, hue_order, orient, color, palette, saturation, width, dodge, fliersize, linewidth)\u001b[0m\n\u001b[1;32m    404\u001b[0m                  width, dodge, fliersize, linewidth):\n\u001b[1;32m    405\u001b[0m \u001b[0;34m\u001b[0m\u001b[0m\n\u001b[0;32m--> 406\u001b[0;31m         \u001b[0mself\u001b[0m\u001b[0;34m.\u001b[0m\u001b[0mestablish_variables\u001b[0m\u001b[0;34m(\u001b[0m\u001b[0mx\u001b[0m\u001b[0;34m,\u001b[0m \u001b[0my\u001b[0m\u001b[0;34m,\u001b[0m \u001b[0mhue\u001b[0m\u001b[0;34m,\u001b[0m \u001b[0mdata\u001b[0m\u001b[0;34m,\u001b[0m \u001b[0morient\u001b[0m\u001b[0;34m,\u001b[0m \u001b[0morder\u001b[0m\u001b[0;34m,\u001b[0m \u001b[0mhue_order\u001b[0m\u001b[0;34m)\u001b[0m\u001b[0;34m\u001b[0m\u001b[0;34m\u001b[0m\u001b[0m\n\u001b[0m\u001b[1;32m    407\u001b[0m         \u001b[0mself\u001b[0m\u001b[0;34m.\u001b[0m\u001b[0mestablish_colors\u001b[0m\u001b[0;34m(\u001b[0m\u001b[0mcolor\u001b[0m\u001b[0;34m,\u001b[0m \u001b[0mpalette\u001b[0m\u001b[0;34m,\u001b[0m \u001b[0msaturation\u001b[0m\u001b[0;34m)\u001b[0m\u001b[0;34m\u001b[0m\u001b[0;34m\u001b[0m\u001b[0m\n\u001b[1;32m    408\u001b[0m \u001b[0;34m\u001b[0m\u001b[0m\n",
      "\u001b[0;32m~/opt/anaconda3/envs/pyj_napari/lib/python3.9/site-packages/seaborn/categorical.py\u001b[0m in \u001b[0;36mestablish_variables\u001b[0;34m(self, x, y, hue, data, orient, order, hue_order, units)\u001b[0m\n\u001b[1;32m    151\u001b[0m                 \u001b[0;32mif\u001b[0m \u001b[0misinstance\u001b[0m\u001b[0;34m(\u001b[0m\u001b[0mvar\u001b[0m\u001b[0;34m,\u001b[0m \u001b[0mstr\u001b[0m\u001b[0;34m)\u001b[0m\u001b[0;34m:\u001b[0m\u001b[0;34m\u001b[0m\u001b[0;34m\u001b[0m\u001b[0m\n\u001b[1;32m    152\u001b[0m                     \u001b[0merr\u001b[0m \u001b[0;34m=\u001b[0m \u001b[0;34m\"Could not interpret input '{}'\"\u001b[0m\u001b[0;34m.\u001b[0m\u001b[0mformat\u001b[0m\u001b[0;34m(\u001b[0m\u001b[0mvar\u001b[0m\u001b[0;34m)\u001b[0m\u001b[0;34m\u001b[0m\u001b[0;34m\u001b[0m\u001b[0m\n\u001b[0;32m--> 153\u001b[0;31m                     \u001b[0;32mraise\u001b[0m \u001b[0mValueError\u001b[0m\u001b[0;34m(\u001b[0m\u001b[0merr\u001b[0m\u001b[0;34m)\u001b[0m\u001b[0;34m\u001b[0m\u001b[0;34m\u001b[0m\u001b[0m\n\u001b[0m\u001b[1;32m    154\u001b[0m \u001b[0;34m\u001b[0m\u001b[0m\n\u001b[1;32m    155\u001b[0m             \u001b[0;31m# Figure out the plotting orientation\u001b[0m\u001b[0;34m\u001b[0m\u001b[0;34m\u001b[0m\u001b[0m\n",
      "\u001b[0;31mValueError\u001b[0m: Could not interpret input 'meanFeFv'"
     ]
    },
    {
     "data": {
      "text/plain": [
       "<Figure size 720x432 with 0 Axes>"
      ]
     },
     "metadata": {},
     "output_type": "display_data"
    }
   ],
   "source": [
    "title_text = metric1\n",
    "\n",
    "plt.figure(figsize=(10, 6))\n",
    "sns.boxplot(x='group', y='meanFeFv', hue='vessel_type', data=final_df)\n",
    "plt.title('Fe/Fv Distribution by Vessel Type and Group')\n",
    "plt.xlabel('Group')\n",
    "plt.ylabel('meanFeFv')\n",
    "plt.legend(title='Vessel Type', loc='upper right')\n",
    "# plt.legend(bars, ['Group A', 'Group B'], frameon=False, loc='best')\n",
    "\n",
    "figure_filename = 'FeFv Distribution by Vessel Type and Group_091727a'\n",
    "# Save the plot as a PDF file\n",
    "plt.savefig(figure_filename + '.pdf', format='pdf', dpi=300) #, bbox_inches='tight')\n",
    "\n",
    "plt.show()"
   ]
  },
  {
   "cell_type": "code",
   "execution_count": 28,
   "id": "4cbb0bcd",
   "metadata": {},
   "outputs": [
    {
     "data": {
      "image/png": "[encoded data removed]",
      "text/plain": [
       "<Figure size 720x432 with 1 Axes>"
      ]
     },
     "metadata": {
      "needs_background": "light"
     },
     "output_type": "display_data"
    }
   ],
   "source": [
    "title_text = metric2\n",
    "\n",
    "plt.figure(figsize=(10, 6))\n",
    "sns.boxplot(x='group', y=title_text, hue='vessel_type', data=final_df)\n",
    "plt.title(title_text + ' Distribution by Vessel Type and Group')\n",
    "plt.xlabel('Group')\n",
    "plt.ylabel(title_text)\n",
    "plt.legend(title='Vessel Type', loc='upper right')\n",
    "# plt.legend(bars, ['Group A', 'Group B'], frameon=False, loc='best')\n",
    "\n",
    "figure_filename = title_text + ' Distribution by Vessel Type and Group_091727a'\n",
    "# Save the plot as a PDF file\n",
    "plt.savefig(figure_filename + '.pdf', format='pdf', dpi=300) #, bbox_inches='tight')\n",
    "\n",
    "plt.show()"
   ]
  },
  {
   "cell_type": "code",
   "execution_count": null,
   "id": "b56fac5b",
   "metadata": {},
   "outputs": [],
   "source": []
  }
 ],
 "metadata": {
  "kernelspec": {
   "display_name": "Python 3 (ipykernel)",
   "language": "python",
   "name": "python3"
  },
  "language_info": {
   "codemirror_mode": {
    "name": "ipython",
    "version": 3
   },
   "file_extension": ".py",
   "mimetype": "text/x-python",
   "name": "python",
   "nbconvert_exporter": "python",
   "pygments_lexer": "ipython3",
   "version": "3.9.7"
  }
 },
 "nbformat": 4,
 "nbformat_minor": 5
}
