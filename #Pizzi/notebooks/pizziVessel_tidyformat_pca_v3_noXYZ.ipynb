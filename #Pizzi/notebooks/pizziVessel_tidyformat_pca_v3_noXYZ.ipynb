{
 "cells": [
  {
   "cell_type": "code",
   "execution_count": 1,
   "id": "eb2ef181",
   "metadata": {},
   "outputs": [
    {
     "name": "stdout",
     "output_type": "stream",
     "text": [
      "0     ZT10_16X6x_gg_800nm_m5_roi2_00003_ROIs_classA\n",
      "1     ZT10_16X6x_gg_800nm_m6_roi1_00001_ROIs_classA\n",
      "2     ZT10_16X6x_gg_800nm_m7_roi1_00001_ROIs_classA\n",
      "3     ZT10_16X6x_gg_800nm_m9_roi1_00002_ROIs_classA\n",
      "4    ZT10_16X6x_gg_800nm_m10_roi1_00001_ROIs_classA\n",
      "5    ZT10_16X6x_gg_800nm_m11_roi1_00001_ROIs_classA\n",
      "6    ZT10_16X6x_gg_800nm_m12_roi1_00001_ROIs_classA\n",
      "7    ZT10_16X6x_gg_800nm_m13_roi1_00002_ROIs_classA\n",
      "8    ZT10_16X6x_gg_800nm_m15_roi1_00001_ROIs_classA\n",
      "9    ZT10_16X6x_gg_800nm_m16_roi1_00001_ROIs_classA\n",
      "Name: filename, dtype: object\n",
      "0    A\n",
      "1    A\n",
      "2    B\n",
      "3    A\n",
      "4    A\n",
      "5    A\n",
      "6    A\n",
      "7    B\n",
      "8    B\n",
      "9    B\n",
      "Name: group, dtype: object\n"
     ]
    }
   ],
   "source": [
    "import pandas as pd\n",
    "\n",
    "# Load the CSV file\n",
    "pathname = '/Users/jcoleman/Documents/--LARGE DATA--/#Pizzi/TBI-sham leak analysis/scripts/matlab-copy/September 2024/'\n",
    "filename = 'analysisData_091724.csv'\n",
    "df = pd.read_csv(pathname+filename)\n",
    "\n",
    "print(df['filename'])\n",
    "print(df['group'])"
   ]
  },
  {
   "cell_type": "code",
   "execution_count": 2,
   "id": "c53989af",
   "metadata": {},
   "outputs": [],
   "source": [
    "# dfTable = pd.read_table(pathname+filename)\n",
    "\n",
    "# print(dfTable.head())"
   ]
  },
  {
   "cell_type": "code",
   "execution_count": 4,
   "id": "4c2a5404",
   "metadata": {},
   "outputs": [
    {
     "name": "stdout",
     "output_type": "stream",
     "text": [
      "Transformation complete. Output files have been generated.\n",
      "Be sure to delete all rows with empty cells/nans before PCA.\n"
     ]
    }
   ],
   "source": [
    "# Transfrom CSV from allData (MATLAB output)\n",
    "# import pandas as pd\n",
    "import numpy as np\n",
    "\n",
    "\"\"\"\n",
    "Convention and column order: It's generally better to keep the 'rowID' as the first column across all output files for consistency.\n",
    "This makes it easier to identify and work with the data, especially when doing analyses or merging datasets later.\n",
    "Data format: The format we've created is indeed considered \"long\" or \"tidy\" format.\n",
    "\n",
    "In tidy data:\n",
    "Each variable forms a column\n",
    "Each observation forms a row\n",
    "Each type of observational unit forms a table\n",
    "\n",
    "This format is preferred for many types of analyses and is especially useful for tools like ggplot in R\n",
    "or seaborn in Python.\n",
    "\"\"\"\n",
    "\n",
    "# Read the input CSV file\n",
    "# input_file = 'sampleData2_input.csv'\n",
    "# df = pd.read_csv(input_file)\n",
    "\n",
    "# Assuming maximum 40 measurements per row per metric/set of values\n",
    "# Set the max number of 'rois' (ie data values per metric per observation-subject in the dataset)\n",
    "max_roi_num = 40\n",
    "\n",
    "headers_to_extract = ['meanFWHM', 'stdevFWHM', 'minFWHM', 'maxFWHM', 'meanFeFv', 'stdevFeFv', 'minFeFv', 'maxFeFv']\n",
    "# TESTheaders_to_extract = ['meanFWHM', 'stdevFWHM', 'minFWHM', 'maxFWHM']\n",
    "logicals_to_extract = [\n",
    "    'capLogical',\n",
    "    'venLogical',\n",
    "    'artLogical',\n",
    "    'midLogical',\n",
    "    'preLogical',\n",
    "    'pstLogical',\n",
    "    'midCapLogical',\n",
    "    'preCapLogical',\n",
    "    'pstCapLogical',\n",
    "    'midVenLogical',\n",
    "    'preVenLogical',\n",
    "    'pstVenLogical',\n",
    "    'midArtLogical',\n",
    "    'preArtLogical',\n",
    "    'pstArtLogical',\n",
    "]\n",
    "# logicals_to_extract = ['capLogical', 'venLogical', 'artLogical']\n",
    "# logicals_to_extract = ['capLogical', 'venLogical']\n",
    "\n",
    "# Function to create the rowID\n",
    "def create_row_id(row, index):\n",
    "    return f\"{row['filename']}_{index:02d}\"\n",
    "\n",
    "# Function to extract columns and create new rows\n",
    "def extract_columns(row):\n",
    "    new_rows = []\n",
    "    for i in range(1, max_roi_num): # Set maximum measurements per row per metric per set of values (ie rois analyzed per subject)\n",
    "        new_row = {'rowID': create_row_id(row, i)}\n",
    "        for header in headers_to_extract:\n",
    "            new_row[header] = row.get(f\"{header}_{i}\", np.nan)\n",
    "        for logical in logicals_to_extract:\n",
    "            new_row[logical] = row.get(f\"{logical}_{i}\", np.nan)\n",
    "        new_row['group'] = row['group']\n",
    "        new_rows.append(new_row)\n",
    "    return new_rows\n",
    "\n",
    "# Create the new dataframe\n",
    "new_rows = [row for rows in df.apply(extract_columns, axis=1) for row in rows]\n",
    "df_output = pd.DataFrame(new_rows)\n",
    "\n",
    "# Ensure 'rowID' is the first column\n",
    "column_order = ['rowID'] + [col for col in df_output.columns if col != 'rowID']\n",
    "df_output = df_output[column_order]\n",
    "\n",
    "# Create output1a (with all rows, including those with NaN values)\n",
    "df_output1a = df_output.copy()\n",
    "df_output1a.to_csv('Data1_output1a_transii.csv', index=False)\n",
    "\n",
    "# Create output1b (without rows that have all NaN values in headers_to_extract)\n",
    "df_output1b = df_output[df_output[headers_to_extract].notna().any(axis=1)]\n",
    "df_output1b.to_csv('Data1_output1b_transii.csv', index=False)\n",
    "\n",
    "# Create output1c (without logicals and group, and without rows that have all NaN values in headers_to_extract)\n",
    "df_output1c = df_output[['rowID'] + headers_to_extract]\n",
    "df_output1c = df_output1c[df_output1c[headers_to_extract].notna().any(axis=1)]\n",
    "df_output1c.to_csv('Data1_output1c_transii.csv', index=False)\n",
    "\n",
    "print(\"Transformation complete. Output files have been generated.\")\n",
    "print(\"Be sure to delete all rows with empty cells/nans before PCA.\")"
   ]
  },
  {
   "cell_type": "code",
   "execution_count": 5,
   "id": "022d06eb",
   "metadata": {},
   "outputs": [
    {
     "name": "stdout",
     "output_type": "stream",
     "text": [
      "                                               rowID  meanFWHM  stdevFWHM  \\\n",
      "0   ZT10_16X6x_gg_800nm_m5_roi2_00003_ROIs_classA_01  3.740378   0.120027   \n",
      "1   ZT10_16X6x_gg_800nm_m5_roi2_00003_ROIs_classA_02  4.100067   0.120158   \n",
      "2   ZT10_16X6x_gg_800nm_m5_roi2_00003_ROIs_classA_03  6.326261   0.091814   \n",
      "3   ZT10_16X6x_gg_800nm_m5_roi2_00003_ROIs_classA_04  6.066305   0.070735   \n",
      "39  ZT10_16X6x_gg_800nm_m6_roi1_00001_ROIs_classA_01  5.886713   0.134211   \n",
      "\n",
      "     minFWHM   maxFWHM  meanFeFv  stdevFeFv   minFeFv   maxFeFv  \n",
      "0   3.542297  3.907355  0.301351   0.088444  0.164055  0.406216  \n",
      "1   3.922870  4.245508  0.718676   0.103000  0.559359  0.933077  \n",
      "2   6.202881  6.441604  0.083048   0.026864  0.049834  0.148631  \n",
      "3   5.974274  6.145408  0.849531   0.084406  0.713789  0.964376  \n",
      "39  5.693535  6.101866  0.222588   0.057162  0.110756  0.307333  \n",
      "(390, 25)\n",
      "(192, 25)\n",
      "(192, 9)\n"
     ]
    }
   ],
   "source": [
    "print(df_output1c.head())\n",
    "\n",
    "print(df_output1a.shape)\n",
    "print(df_output1b.shape)\n",
    "print(df_output1c.shape)"
   ]
  },
  {
   "cell_type": "code",
   "execution_count": 6,
   "id": "e7c71cf9",
   "metadata": {},
   "outputs": [
    {
     "name": "stdout",
     "output_type": "stream",
     "text": [
      "                                               rowID  meanFWHM  stdevFWHM  \\\n",
      "0   ZT10_16X6x_gg_800nm_m5_roi2_00003_ROIs_classA_01  3.740378   0.120027   \n",
      "1   ZT10_16X6x_gg_800nm_m5_roi2_00003_ROIs_classA_02  4.100067   0.120158   \n",
      "2   ZT10_16X6x_gg_800nm_m5_roi2_00003_ROIs_classA_03  6.326261   0.091814   \n",
      "3   ZT10_16X6x_gg_800nm_m5_roi2_00003_ROIs_classA_04  6.066305   0.070735   \n",
      "39  ZT10_16X6x_gg_800nm_m6_roi1_00001_ROIs_classA_01  5.886713   0.134211   \n",
      "\n",
      "     minFWHM   maxFWHM  meanFeFv  stdevFeFv   minFeFv   maxFeFv  capLogical  \\\n",
      "0   3.542297  3.907355  0.301351   0.088444  0.164055  0.406216         1.0   \n",
      "1   3.922870  4.245508  0.718676   0.103000  0.559359  0.933077         1.0   \n",
      "2   6.202881  6.441604  0.083048   0.026864  0.049834  0.148631         1.0   \n",
      "3   5.974274  6.145408  0.849531   0.084406  0.713789  0.964376         1.0   \n",
      "39  5.693535  6.101866  0.222588   0.057162  0.110756  0.307333         1.0   \n",
      "\n",
      "    ...  midCapLogical  preCapLogical  pstCapLogical  midVenLogical  \\\n",
      "0   ...            1.0            0.0            0.0            0.0   \n",
      "1   ...            0.0            1.0            0.0            0.0   \n",
      "2   ...            1.0            0.0            0.0            0.0   \n",
      "3   ...            0.0            1.0            0.0            0.0   \n",
      "39  ...            1.0            0.0            0.0            0.0   \n",
      "\n",
      "    preVenLogical  pstVenLogical  midArtLogical  preArtLogical  pstArtLogical  \\\n",
      "0             0.0            0.0            0.0            0.0            0.0   \n",
      "1             0.0            0.0            0.0            0.0            0.0   \n",
      "2             0.0            0.0            0.0            0.0            0.0   \n",
      "3             0.0            0.0            0.0            0.0            0.0   \n",
      "39            0.0            0.0            0.0            0.0            0.0   \n",
      "\n",
      "    group  \n",
      "0       A  \n",
      "1       A  \n",
      "2       A  \n",
      "3       A  \n",
      "39      A  \n",
      "\n",
      "[5 rows x 25 columns]\n",
      "(190, 25)\n"
     ]
    }
   ],
   "source": [
    "df_pca_withIDs = df_output1b.dropna(how='any')\n",
    "df_pca_withIDs.to_csv('df_pca_withIDs.csv', index=False)\n",
    "print(df_pca_withIDs.head())\n",
    "print(df_pca_withIDs.shape)"
   ]
  },
  {
   "cell_type": "code",
   "execution_count": 7,
   "id": "f44c4338",
   "metadata": {},
   "outputs": [
    {
     "name": "stdout",
     "output_type": "stream",
     "text": [
      "    meanFWHM  stdevFWHM   minFWHM   maxFWHM  meanFeFv  stdevFeFv   minFeFv  \\\n",
      "0   3.740378   0.120027  3.542297  3.907355  0.301351   0.088444  0.164055   \n",
      "1   4.100067   0.120158  3.922870  4.245508  0.718676   0.103000  0.559359   \n",
      "2   6.326261   0.091814  6.202881  6.441604  0.083048   0.026864  0.049834   \n",
      "3   6.066305   0.070735  5.974274  6.145408  0.849531   0.084406  0.713789   \n",
      "39  5.886713   0.134211  5.693535  6.101866  0.222588   0.057162  0.110756   \n",
      "\n",
      "     maxFeFv  \n",
      "0   0.406216  \n",
      "1   0.933077  \n",
      "2   0.148631  \n",
      "3   0.964376  \n",
      "39  0.307333  \n",
      "(190, 9)\n",
      "object\n",
      "(190, 8)\n"
     ]
    }
   ],
   "source": [
    "df_for_pca_temp = df_output1c.dropna(how='any')\n",
    "# df_for_pca_clean = df_for_pca_temp[df_for_pca_temp['rowID'] != 'row_to_ignore']\n",
    "df_for_pca_clean  = df_for_pca_temp.drop('rowID', axis=1)\n",
    "\n",
    "df_for_pca_clean.to_csv('df_for_pca_clean.csv', index=False)\n",
    "print(df_for_pca_clean.head())\n",
    "print(df_for_pca_temp.shape)\n",
    "print(df_for_pca_temp['rowID'].dtype)\n",
    "print(df_for_pca_clean.shape)"
   ]
  },
  {
   "cell_type": "code",
   "execution_count": 8,
   "id": "dc05526b",
   "metadata": {},
   "outputs": [
    {
     "name": "stdout",
     "output_type": "stream",
     "text": [
      "ZT10_16X6x_gg_800nm_m5_roi2_00003_ROIs_classA_01     1\n",
      "ZT10_16X6x_gg_800nm_m13_roi1_00002_ROIs_classA_07    1\n",
      "ZT10_16X6x_gg_800nm_m12_roi1_00001_ROIs_classA_35    1\n",
      "ZT10_16X6x_gg_800nm_m12_roi1_00001_ROIs_classA_36    1\n",
      "ZT10_16X6x_gg_800nm_m12_roi1_00001_ROIs_classA_37    1\n",
      "                                                    ..\n",
      "ZT10_16X6x_gg_800nm_m11_roi1_00001_ROIs_classA_08    1\n",
      "ZT10_16X6x_gg_800nm_m11_roi1_00001_ROIs_classA_09    1\n",
      "ZT10_16X6x_gg_800nm_m11_roi1_00001_ROIs_classA_10    1\n",
      "ZT10_16X6x_gg_800nm_m11_roi1_00001_ROIs_classA_11    1\n",
      "ZT10_16X6x_gg_800nm_m16_roi1_00001_ROIs_classA_18    1\n",
      "Name: rowID, Length: 190, dtype: int64\n"
     ]
    }
   ],
   "source": [
    "# print(df_for_pca_temp['rowID'].head())  # Show first few values\n",
    "# print(df_for_pca_temp['rowID'].unique())  # Show unique values\n",
    "print(df_for_pca_temp['rowID'].value_counts())  # Show value counts"
   ]
  },
  {
   "cell_type": "code",
   "execution_count": 9,
   "id": "a5f0dbb8",
   "metadata": {},
   "outputs": [
    {
     "name": "stdout",
     "output_type": "stream",
     "text": [
      "\n",
      "--- PCA Analysis ---\n",
      "    meanFWHM  stdevFWHM   minFWHM   maxFWHM  meanFeFv  stdevFeFv   minFeFv  \\\n",
      "0  -0.753129  -0.264182 -0.734643 -0.770704 -0.957662  -0.428220 -1.055814   \n",
      "1  -0.552381  -0.263166 -0.520402 -0.585311 -0.241254  -0.335022 -0.180405   \n",
      "2   0.690091  -0.481656  0.763115  0.618701 -1.332417  -0.822510 -1.308759   \n",
      "3   0.545006  -0.644145  0.634423  0.456311 -0.016618  -0.454078  0.161582   \n",
      "39  0.444773  -0.154842  0.476382  0.432439 -1.092873  -0.628519 -1.173847   \n",
      "\n",
      "     maxFeFv  \n",
      "0  -0.929415  \n",
      "1  -0.250892  \n",
      "2  -1.261148  \n",
      "3  -0.210584  \n",
      "39 -1.056762  \n",
      "(190, 8)\n"
     ]
    }
   ],
   "source": [
    "# Now, let's separate the PCA analysis\n",
    "import numpy as np\n",
    "from sklearn.preprocessing import StandardScaler\n",
    "from sklearn.decomposition import PCA\n",
    "\n",
    "print(\"\\n--- PCA Analysis ---\")\n",
    "\n",
    "# Scale the data\n",
    "scaler = StandardScaler()\n",
    "df_scaled = pd.DataFrame(\n",
    "    scaler.fit_transform(df_for_pca_clean), \n",
    "    columns=df_for_pca_clean.columns, \n",
    "    index=df_for_pca_clean.index\n",
    ")\n",
    "\n",
    "print(df_scaled.head())\n",
    "print(df_scaled.shape)"
   ]
  },
  {
   "cell_type": "code",
   "execution_count": 10,
   "id": "01344902",
   "metadata": {},
   "outputs": [
    {
     "name": "stdout",
     "output_type": "stream",
     "text": [
      "\n",
      "PCA Results:\n",
      "         PC1       PC2       PC3       PC4       PC5       PC6       PC7  \\\n",
      "0  -0.942118 -1.931356  0.448974  0.159236 -0.058432 -0.039371 -0.006136   \n",
      "1  -0.037306 -1.109899 -0.102672 -0.086258 -0.002619  0.044717  0.007253   \n",
      "2  -2.704731 -0.062154  0.071763  0.320889 -0.022847  0.013285 -0.002027   \n",
      "3  -0.734230  0.592860 -0.840275  0.042960 -0.003039 -0.027507 -0.004825   \n",
      "39 -2.130028 -0.193071  0.331685  0.174882 -0.067659  0.012554 -0.012839   \n",
      "\n",
      "         PC8  \n",
      "0   0.007993  \n",
      "1  -0.020397  \n",
      "2  -0.017319  \n",
      "3  -0.017624  \n",
      "39  0.004147  \n"
     ]
    }
   ],
   "source": [
    "# Perform PCA\n",
    "pca = PCA()\n",
    "pca_result = pca.fit_transform(df_scaled)\n",
    "\n",
    "# Create a DataFrame with PCA results\n",
    "pca_df = pd.DataFrame(\n",
    "    data=pca_result,\n",
    "    columns=[f'PC{i+1}' for i in range(pca_result.shape[1])],\n",
    "    index=df_for_pca_clean.index\n",
    ")\n",
    "\n",
    "print(\"\\nPCA Results:\")\n",
    "print(pca_df.head())"
   ]
  },
  {
   "cell_type": "code",
   "execution_count": 11,
   "id": "36856809",
   "metadata": {},
   "outputs": [
    {
     "name": "stdout",
     "output_type": "stream",
     "text": [
      "\n",
      "Explained Variance Ratio:\n",
      "PC1: 0.4381\n",
      "PC2: 0.3601\n",
      "PC3: 0.1378\n",
      "PC4: 0.0611\n",
      "PC5: 0.0019\n",
      "PC6: 0.0007\n",
      "PC7: 0.0001\n",
      "PC8: 0.0001\n",
      "\n",
      "Cumulative Explained Variance Ratio:\n",
      "PC1 to PC1: 0.4381\n",
      "PC1 to PC2: 0.7982\n",
      "PC1 to PC3: 0.9361\n",
      "PC1 to PC4: 0.9972\n",
      "PC1 to PC5: 0.9991\n",
      "PC1 to PC6: 0.9998\n",
      "PC1 to PC7: 0.9999\n",
      "PC1 to PC8: 1.0000\n"
     ]
    }
   ],
   "source": [
    "# Calculate and print explained variance ratio\n",
    "explained_variance_ratio = pca.explained_variance_ratio_\n",
    "print(\"\\nExplained Variance Ratio:\")\n",
    "for i, ratio in enumerate(explained_variance_ratio):\n",
    "    print(f\"PC{i+1}: {ratio:.4f}\")\n",
    "\n",
    "# Cumulative explained variance\n",
    "cumulative_variance_ratio = np.cumsum(explained_variance_ratio)\n",
    "print(\"\\nCumulative Explained Variance Ratio:\")\n",
    "for i, ratio in enumerate(cumulative_variance_ratio):\n",
    "    print(f\"PC1 to PC{i+1}: {ratio:.4f}\")"
   ]
  },
  {
   "cell_type": "code",
   "execution_count": null,
   "id": "bfcb4b71",
   "metadata": {},
   "outputs": [],
   "source": []
  }
 ],
 "metadata": {
  "kernelspec": {
   "display_name": "Python 3 (ipykernel)",
   "language": "python",
   "name": "python3"
  },
  "language_info": {
   "codemirror_mode": {
    "name": "ipython",
    "version": 3
   },
   "file_extension": ".py",
   "mimetype": "text/x-python",
   "name": "python",
   "nbconvert_exporter": "python",
   "pygments_lexer": "ipython3",
   "version": "3.9.7"
  }
 },
 "nbformat": 4,
 "nbformat_minor": 5
}
