{
 "cells": [
  {
   "cell_type": "code",
   "execution_count": 53,
   "id": "1e0f446f",
   "metadata": {},
   "outputs": [],
   "source": [
    "import pickle\n",
    "import numpy as np\n",
    "\n",
    "pathtopicklefile = '/Users/jcoleman/UFL Dropbox/Jason Coleman/PYTHONdb/LAbisambra/pizzi python code/data_dict.pkl'\n",
    "\n",
    "with open(pathtopicklefile, 'rb') as file:\n",
    "    data_dict_z1 = pickle.load(file)"
   ]
  },
  {
   "cell_type": "code",
   "execution_count": 54,
   "id": "2fdd66c4",
   "metadata": {},
   "outputs": [],
   "source": [
    "def parse_data(data):\n",
    "    \"\"\"\n",
    "    Parse the given XYZ data into a numpy array.\n",
    "    \"\"\"\n",
    "    data = np.array(data)\n",
    "    return data\n",
    "\n",
    "def return_parsed_arrays(data, data_dict_key):\n",
    "    \"\"\"\n",
    "    Main function to loop through data sets (eg data_dict), plot, and perform clustering.\n",
    "    \"\"\"\n",
    "    data_arrays=dict()\n",
    "    for key in data['AnalysisStruct']['Z1']:\n",
    "        data_variable = data['AnalysisStruct']['Z1'][key][data_dict_key]\n",
    "        parsed_data = parse_data(data_variable)\n",
    "        #plot_3d_scatter(parsed_data, title=f\"3D Scatter Plot for {key}\")\n",
    "        data_arrays[key] = parsed_data\n",
    "    return data_arrays\n",
    "\n",
    "dict_variable_names = ['FeFv',\n",
    "                    'XYZ3D',\n",
    "                    'XYcoords',\n",
    "                    'Zcoords',\n",
    "                    'Zmicrons',\n",
    "                    'foldFe',\n",
    "                    'fwhm_Pv_vars',\n",
    "                    'fwhm_flanking_intDen',\n",
    "                    'fwhm_flanking_mean',\n",
    "                    'maxFe',\n",
    "                    'mean_FWHM_pix',\n",
    "                    'mean_FWHM_ums',\n",
    "                    'roiID',\n",
    "                    'roiT_FWHM_pix',\n",
    "                    'roiT_FWHM_ums',\n",
    "                    'roiT_fwhm_flanking_tData', \n",
    "                    'roiT_profiles']\n",
    "\n",
    "data_xyz3d = return_parsed_arrays(data_dict_z1, 'XYZ3D')\n",
    "data_fefv = return_parsed_arrays(data_dict_z1, 'FeFv')\n",
    "data_fwhm_ums = return_parsed_arrays(data_dict_z1, 'mean_FWHM_ums')"
   ]
  },
  {
   "cell_type": "code",
   "execution_count": 55,
   "id": "85b1269d",
   "metadata": {},
   "outputs": [
    {
     "name": "stdout",
     "output_type": "stream",
     "text": [
      "dict_keys(['m10_roi1_00001', 'm11_roi1_00001', 'm12_roi1_00001', 'm13_roi1_00002', 'm15_roi1_00001', 'm16_roi1_00001', 'm5_roi2_00003', 'm6_roi1_00001', 'm7_roi1_00001', 'm9_roi1_00002'])\n",
      "dict_keys(['m10_roi1_00001', 'm11_roi1_00001', 'm12_roi1_00001', 'm13_roi1_00002', 'm15_roi1_00001', 'm16_roi1_00001', 'm5_roi2_00003', 'm6_roi1_00001', 'm7_roi1_00001', 'm9_roi1_00002'])\n",
      "dict_keys(['m10_roi1_00001', 'm11_roi1_00001', 'm12_roi1_00001', 'm13_roi1_00002', 'm15_roi1_00001', 'm16_roi1_00001', 'm5_roi2_00003', 'm6_roi1_00001', 'm7_roi1_00001', 'm9_roi1_00002'])\n"
     ]
    }
   ],
   "source": [
    "print(data_xyz3d.keys())\n",
    "print(data_fefv.keys())\n",
    "print(data_fwhm_ums.keys())"
   ]
  },
  {
   "cell_type": "code",
   "execution_count": 162,
   "id": "38ea362b",
   "metadata": {},
   "outputs": [
    {
     "name": "stderr",
     "output_type": "stream",
     "text": [
      "/var/folders/bh/28kxn85n7dzd4095hz5d9rpnf092bp/T/ipykernel_82199/809442713.py:22: VisibleDeprecationWarning: Creating an ndarray from ragged nested sequences (which is a list-or-tuple of lists-or-tuples-or ndarrays with different lengths or shapes) is deprecated. If you meant to do this, you must specify 'dtype=object' when creating the ndarray.\n",
      "  data1array = np.array(list(data1dict.values()))\n",
      "/var/folders/bh/28kxn85n7dzd4095hz5d9rpnf092bp/T/ipykernel_82199/809442713.py:24: VisibleDeprecationWarning: Creating an ndarray from ragged nested sequences (which is a list-or-tuple of lists-or-tuples-or ndarrays with different lengths or shapes) is deprecated. If you meant to do this, you must specify 'dtype=object' when creating the ndarray.\n",
      "  data2array = np.array(list(data2dict.values()))\n"
     ]
    }
   ],
   "source": [
    "#create data1 and data2 vectors\n",
    "\n",
    "# data_fefv_subjectmean = dict()\n",
    "# for key in data_fefv:\n",
    "#     #subject_id = 'm10_roi1_00001'\n",
    "\n",
    "#     values = data_fefv[key]\n",
    "\n",
    "#     data_fefv_subjectmean[key] = np.nanmean(values)\n",
    "    \n",
    "# print(data_fefv_subjectmean)\n",
    "\n",
    "def dict_to_grouparrays(data_metric_dict):\n",
    "    grpA = ('m5', 'm6', 'm9', 'm10', 'm11', 'm12') #% codes from Pizzi\n",
    "    grpB = ('m7', 'm13', 'm15', 'm16') #% codes from Pizzi\n",
    "    # data1 = [[groupA indices]]\n",
    "    # data2 = [[groupB indices]]\n",
    "    data1dict = {k: v for k, v in data_metric_dict.items() if k.startswith(grpA)}\n",
    "    data2dict = {k: v for k, v in data_metric_dict.items() if k.startswith(grpB)}\n",
    "\n",
    "    #print(grpA)\n",
    "    data1array = np.array(list(data1dict.values()))\n",
    "    #print(grpB)\n",
    "    data2array = np.array(list(data2dict.values()))\n",
    "    \n",
    "    return data1array, data2array\n",
    "\n",
    "# MetricID = 'mean_FWHM_ums' #needs to match dict_variable_names[x]\n",
    "# data1, data2 = dict_to_grouparrays(data_fwhm_ums)\n",
    "\n",
    "MetricID = 'FeFv' #needs to match dict_variable_names[x]\n",
    "data1, data2 = dict_to_grouparrays(data_fefv)"
   ]
  },
  {
   "cell_type": "code",
   "execution_count": 163,
   "id": "f24d27c9",
   "metadata": {},
   "outputs": [
    {
     "name": "stdout",
     "output_type": "stream",
     "text": [
      "157\n",
      "104\n"
     ]
    }
   ],
   "source": [
    "print(len(data1[0])+len(data1[1])+len(data1[2])+len(data1[3])+len(data1[4])+len(data1[5]))\n",
    "print(len(data2[0])+len(data2[1])+len(data2[2])+len(data2[3]))"
   ]
  },
  {
   "cell_type": "code",
   "execution_count": 164,
   "id": "7ad30051",
   "metadata": {},
   "outputs": [
    {
     "name": "stdout",
     "output_type": "stream",
     "text": [
      "[27.84303022350513, 30.502067851774374, 22.209651266475326, 24.492546068731897, 26.75449864249126, 22.961997605685625]\n",
      "[24.318629349403547, 27.090725543590455, 22.103042933961724, 29.166880710570574]\n"
     ]
    }
   ],
   "source": [
    "data1mean = list()\n",
    "data2mean = list()\n",
    "\n",
    "for i in range(len(data1)):\n",
    "    data1mean.append(np.nanmean(data1[i]))\n",
    "for i in range(len(data2)):\n",
    "    data2mean.append(np.nanmean(data2[i]))\n",
    "    \n",
    "print(data1mean)\n",
    "print(data2mean)"
   ]
  },
  {
   "cell_type": "code",
   "execution_count": 165,
   "id": "592c00fc",
   "metadata": {},
   "outputs": [],
   "source": [
    "# BAR PLOT AND ADD SCATTERPLOT \n",
    "import numpy as np\n",
    "import matplotlib.pyplot as plt\n",
    "\n",
    "def plot_bar_with_sem(data1, data2, figure_filename, font_style='Arial', font_size=12):\n",
    "    \n",
    "    plt.figure(figsize=(5,5))\n",
    "    # Calculate mean and SEM for each group\n",
    "    mean1 = np.nanmean(data1)\n",
    "    sem1 = np.std(data1) / np.sqrt(len(data1))\n",
    "    mean2 = np.nanmean(data2)\n",
    "    sem2 = np.std(data2) / np.sqrt(len(data2))\n",
    "\n",
    "    # Plot means with error bars (SEM)\n",
    "    bar_width = 0.35\n",
    "    index = np.arange(2)\n",
    "    #bars = plt.bar(index, [mean1, mean2], bar_width, yerr=[sem1, sem2], color=['blue', 'green'], alpha=0.1)\n",
    "    #bars = plt.bar(index, [mean1, mean2], bar_width, yerr=[sem1, sem2], color=['white', 'white'], edgecolor=['blue', 'green'], linewidth=1.0, alpha=1.0, zorder=1)\n",
    "    bars = plt.bar(index, [mean1, mean2], bar_width, yerr=[sem1, sem2], color=['white', 'white'], edgecolor=['black', 'red'], linewidth=1.0, alpha=1.0, zorder=1)\n",
    "\n",
    "    \n",
    "    # Overlay scatterplot data for each group (NEEDS LOOP COLOR)\n",
    "    for i, data in enumerate([data1, data2]):\n",
    "        # Set color LUT\n",
    "        #dotcolors = ['blue', 'green']\n",
    "        dotcolors = ['black', 'red']\n",
    "        # Generate random x-offset values for scatterplot\n",
    "        x_offset = np.random.uniform(-0.1, 0.1, size=len(data))\n",
    "        # Generate X values for scatterplot (group index with random offset)\n",
    "        x_values = index[i] + x_offset\n",
    "        #plt.scatter(x_values, data, facecolors=dotcolors[i], edgecolors=dotcolors[i], linewidths=0.5, alpha=1.0, zorder=3)  # Overlay scatterplot for each group\n",
    "        plt.scatter(x_values, data, facecolors=dotcolors[i], edgecolors=dotcolors[i], linewidths=1.0, alpha=1.0, zorder=3)  # Overlay scatterplot for each group\n",
    "\n",
    "    # Set font style and size for all labels\n",
    "\n",
    "    # Set font style and size for all labels\n",
    "    plt.rcParams['font.family'] = font_style\n",
    "    plt.rcParams['font.size'] = font_size\n",
    "\n",
    "    plt.xlabel('Groups')\n",
    "    plt.ylabel(MetricID)\n",
    "    plt.xticks(index, ['Group A', 'Group B'])\n",
    "\n",
    "    # Add legends for both groups\n",
    "    plt.legend(bars, ['Group A', 'Group B'], frameon=False, loc='best')\n",
    "    \n",
    "    plt.title('Bar-Scatter Plot of Means ± SEM for Two Groups')\n",
    "    \n",
    "    # Save the plot as a TIFF file\n",
    "    plt.savefig(figure_filename + '.tif', format='tiff', dpi=300)\n",
    "    \n",
    "    # Save the plot as a PDF file\n",
    "    plt.savefig(figure_filename + '.pdf', format='pdf', dpi=300) #, bbox_inches='tight')\n",
    "    \n",
    "    # Save the plot as an EPS file\n",
    "    plt.savefig(figure_filename + '.eps', format='eps', dpi=300) #, bbox_inches='tight')\n",
    "    #plt.savefig('example_plot.tiff', format='tiff', dpi=300)\n",
    "\n",
    "    plt.show()\n"
   ]
  },
  {
   "cell_type": "code",
   "execution_count": 166,
   "id": "9b183348",
   "metadata": {},
   "outputs": [
    {
     "data": {
      "image/png": "[encoded data removed]",
      "text/plain": [
       "<Figure size 360x360 with 1 Axes>"
      ]
     },
     "metadata": {
      "needs_background": "light"
     },
     "output_type": "display_data"
    }
   ],
   "source": [
    "# # Save the plot as a TIFF file\n",
    "# plt.savefig('example_plot.tiff', format='tiff', dpi=300)\n",
    "\n",
    "# plt.show()\n",
    "\n",
    "plot_bar_with_sem(data1mean, data2mean, 'data_FeFv_barplot', font_style='Arial', font_size=14)"
   ]
  },
  {
   "cell_type": "code",
   "execution_count": 167,
   "id": "dcda65c2",
   "metadata": {},
   "outputs": [
    {
     "name": "stdout",
     "output_type": "stream",
     "text": [
      "Mann-Whitney U statistic: 13.0\n",
      "P-value: 0.9142857142857143\n",
      "Fail to reject the null hypothesis: the distributions are not significantly different\n"
     ]
    }
   ],
   "source": [
    "#import numpy as np\n",
    "from scipy.stats import mannwhitneyu\n",
    "\n",
    "# Example data: two vectors\n",
    "# vector1 = np.random.randn(100)  # Random data for vector1\n",
    "# vector2 = np.random.randn(100) + 0.5  # Random data for vector2, shifted by 0.5\n",
    "\n",
    "# Perform the Mann-Whitney U test\n",
    "stat, p_value = mannwhitneyu(data1mean, data2mean, alternative='two-sided')\n",
    "\n",
    "# Print the results\n",
    "print(f'Mann-Whitney U statistic: {stat}')\n",
    "print(f'P-value: {p_value}')\n",
    "\n",
    "# Interpret the result\n",
    "alpha = 0.05\n",
    "if p_value < alpha:\n",
    "    print('Reject the null hypothesis: the distributions are different')\n",
    "else:\n",
    "    print('Fail to reject the null hypothesis: the distributions are not significantly different')\n"
   ]
  },
  {
   "cell_type": "code",
   "execution_count": null,
   "id": "21f26938",
   "metadata": {},
   "outputs": [],
   "source": []
  }
 ],
 "metadata": {
  "kernelspec": {
   "display_name": "Python 3 (ipykernel)",
   "language": "python",
   "name": "python3"
  },
  "language_info": {
   "codemirror_mode": {
    "name": "ipython",
    "version": 3
   },
   "file_extension": ".py",
   "mimetype": "text/x-python",
   "name": "python",
   "nbconvert_exporter": "python",
   "pygments_lexer": "ipython3",
   "version": "3.9.7"
  }
 },
 "nbformat": 4,
 "nbformat_minor": 5
}
