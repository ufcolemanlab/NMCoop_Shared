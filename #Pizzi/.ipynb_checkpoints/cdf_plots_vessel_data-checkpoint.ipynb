{
 "cells": [
  {
   "cell_type": "code",
   "execution_count": 2,
   "id": "2c0d15da",
   "metadata": {},
   "outputs": [],
   "source": [
    "import pickle\n",
    "import numpy as np\n",
    "\n",
    "pathtopicklefile = '/Users/jcoleman/UFL Dropbox/Jason Coleman/PYTHONdb/LAbisambra/pizzi python code/data_dict.pkl'\n",
    "\n",
    "with open(pathtopicklefile, 'rb') as file:\n",
    "    data_dict_z1 = pickle.load(file)"
   ]
  },
  {
   "cell_type": "code",
   "execution_count": 3,
   "id": "05a6373b",
   "metadata": {},
   "outputs": [],
   "source": [
    "def parse_data(data):\n",
    "    \"\"\"\n",
    "    Parse the given XYZ data into a numpy array.\n",
    "    \"\"\"\n",
    "    data = np.array(data)\n",
    "    return data\n",
    "\n",
    "def return_parsed_arrays(data, data_dict_key):\n",
    "    \"\"\"\n",
    "    Main function to loop through data sets (eg data_dict), plot, and perform clustering.\n",
    "    \"\"\"\n",
    "    data_arrays=dict()\n",
    "    for key in data['AnalysisStruct']['Z1']:\n",
    "        data_variable = data['AnalysisStruct']['Z1'][key][data_dict_key]\n",
    "        parsed_data = parse_data(data_variable)\n",
    "        #plot_3d_scatter(parsed_data, title=f\"3D Scatter Plot for {key}\")\n",
    "        data_arrays[key] = parsed_data\n",
    "    return data_arrays\n",
    "\n",
    "dict_variable_names = ['FeFv',\n",
    "                    'XYZ3D',\n",
    "                    'XYcoords',\n",
    "                    'Zcoords',\n",
    "                    'Zmicrons',\n",
    "                    'foldFe',\n",
    "                    'fwhm_Pv_vars',\n",
    "                    'fwhm_flanking_intDen',\n",
    "                    'fwhm_flanking_mean',\n",
    "                    'maxFe',\n",
    "                    'mean_FWHM_pix',\n",
    "                    'mean_FWHM_ums',\n",
    "                    'roiID',\n",
    "                    'roiT_FWHM_pix',\n",
    "                    'roiT_FWHM_ums',\n",
    "                    'roiT_fwhm_flanking_tData', \n",
    "                    'roiT_profiles']\n",
    "\n",
    "data_xyz3d = return_parsed_arrays(data_dict_z1, 'XYZ3D')\n",
    "data_fefv = return_parsed_arrays(data_dict_z1, 'FeFv')\n",
    "data_fwhm_ums = return_parsed_arrays(data_dict_z1, 'mean_FWHM_ums')"
   ]
  },
  {
   "cell_type": "code",
   "execution_count": 4,
   "id": "4add45bf",
   "metadata": {},
   "outputs": [
    {
     "name": "stdout",
     "output_type": "stream",
     "text": [
      "dict_keys(['m10_roi1_00001', 'm11_roi1_00001', 'm12_roi1_00001', 'm13_roi1_00002', 'm15_roi1_00001', 'm16_roi1_00001', 'm5_roi2_00003', 'm6_roi1_00001', 'm7_roi1_00001', 'm9_roi1_00002'])\n",
      "dict_keys(['m10_roi1_00001', 'm11_roi1_00001', 'm12_roi1_00001', 'm13_roi1_00002', 'm15_roi1_00001', 'm16_roi1_00001', 'm5_roi2_00003', 'm6_roi1_00001', 'm7_roi1_00001', 'm9_roi1_00002'])\n",
      "dict_keys(['m10_roi1_00001', 'm11_roi1_00001', 'm12_roi1_00001', 'm13_roi1_00002', 'm15_roi1_00001', 'm16_roi1_00001', 'm5_roi2_00003', 'm6_roi1_00001', 'm7_roi1_00001', 'm9_roi1_00002'])\n"
     ]
    }
   ],
   "source": [
    "print(data_xyz3d.keys())\n",
    "print(data_fefv.keys())\n",
    "print(data_fwhm_ums.keys())"
   ]
  },
  {
   "cell_type": "code",
   "execution_count": 51,
   "id": "618a8205",
   "metadata": {},
   "outputs": [
    {
     "name": "stderr",
     "output_type": "stream",
     "text": [
      "/var/folders/bh/28kxn85n7dzd4095hz5d9rpnf092bp/T/ipykernel_92053/3319795669.py:22: VisibleDeprecationWarning: Creating an ndarray from ragged nested sequences (which is a list-or-tuple of lists-or-tuples-or ndarrays with different lengths or shapes) is deprecated. If you meant to do this, you must specify 'dtype=object' when creating the ndarray.\n",
      "  data1array = np.array(list(data1dict.values()))\n",
      "/var/folders/bh/28kxn85n7dzd4095hz5d9rpnf092bp/T/ipykernel_92053/3319795669.py:24: VisibleDeprecationWarning: Creating an ndarray from ragged nested sequences (which is a list-or-tuple of lists-or-tuples-or ndarrays with different lengths or shapes) is deprecated. If you meant to do this, you must specify 'dtype=object' when creating the ndarray.\n",
      "  data2array = np.array(list(data2dict.values()))\n"
     ]
    }
   ],
   "source": [
    "#create data1 and data2 vectors\n",
    "\n",
    "# data_fefv_subjectmean = dict()\n",
    "# for key in data_fefv:\n",
    "#     #subject_id = 'm10_roi1_00001'\n",
    "\n",
    "#     values = data_fefv[key]\n",
    "\n",
    "#     data_fefv_subjectmean[key] = np.nanmean(values)\n",
    "    \n",
    "# print(data_fefv_subjectmean)\n",
    "\n",
    "def dict_to_grouparrays(data_metric_dict):\n",
    "    grpA = ('m5', 'm6', 'm9', 'm10', 'm11', 'm12') #% codes from Pizzi\n",
    "    grpB = ('m7', 'm13', 'm15', 'm16') #% codes from Pizzi\n",
    "    # data1 = [[groupA indices]]\n",
    "    # data2 = [[groupB indices]]\n",
    "    data1dict = {k: v for k, v in data_metric_dict.items() if k.startswith(grpA)}\n",
    "    data2dict = {k: v for k, v in data_metric_dict.items() if k.startswith(grpB)}\n",
    "\n",
    "    #print(grpA)\n",
    "    data1array = np.array(list(data1dict.values()))\n",
    "    #print(grpB)\n",
    "    data2array = np.array(list(data2dict.values()))\n",
    "    \n",
    "    return data1array, data2array\n",
    "\n",
    "\n",
    "MetricID = 'mean_FWHM_ums'\n",
    "data1, data2 = dict_to_grouparrays(data_fwhm_ums)\n",
    "# MetricID = 'FeFv'\n",
    "# data1, data2 = dict_to_grouparrays(data_fefv)"
   ]
  },
  {
   "cell_type": "code",
   "execution_count": 52,
   "id": "f72c1b7d",
   "metadata": {},
   "outputs": [],
   "source": [
    "# PREFERRED CUMUL PLOT METHOD AS OF 5-13-24\n",
    "\n",
    "import numpy as np\n",
    "import matplotlib.pyplot as plt\n",
    "\n",
    "def plot_cumulative_probability(group1_data, group2_data, figure_filename, bins=30, figsize=(8, 6), font_size=12):\n",
    "    \"\"\"\n",
    "    Plot cumulative probability histograms of two groups of input data side by side.\n",
    "\n",
    "    Parameters:\n",
    "    - group1_data: Array-like, data for Group 1.\n",
    "    - group2_data: Array-like, data for Group 2.\n",
    "    - bins: int or sequence of scalars or str, optional (default=30)\n",
    "            If an integer, defines the number of equal-width bins in the range.\n",
    "            If a sequence, defines the bin edges, including the rightmost edge, allowing for non-uniform bin widths.\n",
    "            If a string, it defines the method used to calculate the optimal bin width, as defined by `np.histogram_bin_edges`.\n",
    "    - figsize: tuple, optional (default=(8, 6))\n",
    "               Width, height in inches.\n",
    "    - font_size: int or float, optional (default=12)\n",
    "                 Font size.\n",
    "    \"\"\"\n",
    "    # Set font type and size\n",
    "    plt.rcParams.update({'font.family': 'Arial', 'font.style': 'normal', 'font.size': font_size})\n",
    "\n",
    "    # Calculate the bin edges\n",
    "    hist_range = (min(min(group1_data), min(group2_data)), max(max(group1_data), max(group2_data)))\n",
    "    bins = np.linspace(*hist_range, bins)\n",
    "\n",
    "    # Create subplots\n",
    "    fig, ax = plt.subplots(figsize=figsize)\n",
    "\n",
    "    # Plot cumulative probability histograms for both groups\n",
    "    weights1_prob = np.ones_like(group1_data) / len(group1_data)\n",
    "    weights2_prob = np.ones_like(group2_data) / len(group2_data)\n",
    "\n",
    "    ax.hist(group1_data, bins=bins, color='black', alpha=0.5, cumulative=True, weights=weights1_prob, label='Group 1', histtype='step', linewidth=2)\n",
    "    ax.hist(group2_data, bins=bins, color='red', alpha=0.5, cumulative=True, weights=weights2_prob, label='Group 2', histtype='step', linewidth=2)\n",
    "    \n",
    "    # Set labels and title\n",
    "    ax.set_xlabel(MetricID, fontsize=font_size)\n",
    "    ax.set_ylabel('Cumulative Probability', fontsize=font_size)\n",
    "    ax.set_title('Cumulative Probability Histograms of Group A and Group B', fontsize=font_size)\n",
    "\n",
    "    # Add legends for both groups\n",
    "    plt.legend(['Group A', 'Group B'], frameon=False, loc='upper left')\n",
    "    \n",
    "    # BETTER WAY??? White-out the last vertical line for asthetics\n",
    "    whiteout_line_xloc  = max(max(group1_data), max(group2_data))\n",
    "    ax.axvline(x = whiteout_line_xloc, color = 'white', linewidth = 2, alpha=1.0)\n",
    "    \n",
    "    # Save the plot as a PDF file\n",
    "    plt.savefig(figure_filename + '.pdf', format='pdf', dpi=300) #, bbox_inches='tight')\n",
    "    \n",
    "    # Save the plot as an EPS file\n",
    "    plt.savefig(figure_filename + '.eps', format='eps', dpi=300) #, bbox_inches='tight')\n",
    "    \n",
    "    # Save the plot as a PNG file\n",
    "    plt.savefig(figure_filename + '.png', format='PNG', dpi=300) #, bbox_inches='tight')\n",
    "    \n",
    "    # Save the plot as a TIF file\n",
    "    #plt.savefig('example_plot.tiff', format='tiff', dpi=300)\n",
    "\n",
    "    plt.show()\n",
    "\n",
    "# Example usage:\n",
    "# group1_data = np.random.normal(loc=0, scale=1, size=1000)\n",
    "# group2_data = np.random.normal(loc=2, scale=1.5, size=1000)\n",
    "# plot_cumulative_probability(data1, data2, figsize=(10, 8), font_size=14)"
   ]
  },
  {
   "cell_type": "code",
   "execution_count": 53,
   "id": "acaac0b7",
   "metadata": {},
   "outputs": [],
   "source": [
    "temp1 = np.concatenate(data1, axis=0)\n",
    "temp2 = np.concatenate(data2, axis=0)"
   ]
  },
  {
   "cell_type": "code",
   "execution_count": 54,
   "id": "d46652fb",
   "metadata": {},
   "outputs": [
    {
     "name": "stderr",
     "output_type": "stream",
     "text": [
      "The PostScript backend does not support transparency; partially transparent artists will be rendered opaque.\n",
      "The PostScript backend does not support transparency; partially transparent artists will be rendered opaque.\n",
      "The PostScript backend does not support transparency; partially transparent artists will be rendered opaque.\n",
      "The PostScript backend does not support transparency; partially transparent artists will be rendered opaque.\n"
     ]
    },
    {
     "data": {
      "image/png": "[encoded data removed]",
      "text/plain": [
       "<Figure size 720x576 with 1 Axes>"
      ]
     },
     "metadata": {
      "needs_background": "light"
     },
     "output_type": "display_data"
    }
   ],
   "source": [
    "plot_cumulative_probability(temp1, temp2, 'cdfplots_fwhm_ums', figsize=(10, 8), font_size=14)"
   ]
  },
  {
   "cell_type": "code",
   "execution_count": 55,
   "id": "58b22e89",
   "metadata": {},
   "outputs": [
    {
     "data": {
      "text/plain": [
       "KstestResult(statistic=0.19187898089171976, pvalue=0.016753559176772126)"
      ]
     },
     "execution_count": 55,
     "metadata": {},
     "output_type": "execute_result"
    }
   ],
   "source": [
    "from scipy.stats import ks_2samp\n",
    "\n",
    "ks_2samp(temp1, temp2)\n",
    "\n",
    "# \"\"\"\n",
    "# All statistical analyses were performed using R (\n",
    "# http://www.r-project.org\n",
    "# /) or MATLAB. Cilia lengths were analyzed using the two-sample Kolmogorov-Smirnov (K-S) test.\n",
    "# For the K-S tests we applied a Bonferroni correction for the number of regions analyzed within each\n",
    "# brain to the standard p value of 0.05. Thus, for PTZ experiments, we set the statistical significance at\n",
    "# p < 0.008 for Arl13b + (glial) cilia and p < 0.007 for ACIII + (neuronal) cilia measurements.\n",
    "# For KA experiments, statistical significance for K-S tests was set at p < 0.012.\n",
    "# \"\"\""
   ]
  },
  {
   "cell_type": "code",
   "execution_count": null,
   "id": "0b9a77e3",
   "metadata": {},
   "outputs": [],
   "source": [
    "# get Z value only\n"
   ]
  },
  {
   "cell_type": "code",
   "execution_count": null,
   "id": "38b0b096",
   "metadata": {},
   "outputs": [],
   "source": []
  }
 ],
 "metadata": {
  "kernelspec": {
   "display_name": "Python 3 (ipykernel)",
   "language": "python",
   "name": "python3"
  },
  "language_info": {
   "codemirror_mode": {
    "name": "ipython",
    "version": 3
   },
   "file_extension": ".py",
   "mimetype": "text/x-python",
   "name": "python",
   "nbconvert_exporter": "python",
   "pygments_lexer": "ipython3",
   "version": "3.9.7"
  }
 },
 "nbformat": 4,
 "nbformat_minor": 5
}
