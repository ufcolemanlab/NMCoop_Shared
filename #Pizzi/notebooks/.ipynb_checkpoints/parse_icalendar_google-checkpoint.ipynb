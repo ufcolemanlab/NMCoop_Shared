{
 "cells": [
  {
   "cell_type": "code",
   "execution_count": 30,
   "id": "5fcb223e-c2c3-4b87-abb8-9de36d772314",
   "metadata": {},
   "outputs": [
    {
     "data": {
      "text/plain": [
       "'\\nWorkflow plus ready‑to‑run Python to turn Google Calendar into analyzable tables\\n\\n\\n1) Export your calendars (no API needed)\\nOption A: Quick export from Google Calendar (recommended)\\n\\nGo to Google Calendar on the web.\\n\\nGear icon → Settings → Import & export → Export.\\n\\nYou’ll get a .zip containing one .ics file per calendar.\\n\\n\\n2) Parse & normalize in Python (handles recurrences)\\n\\nPipeline that:\\n\\n    Reads multiple .ics files (one per calendar)\\n\\n    Expands recurring events within a date range\\n\\n    Normalizes to a single pandas DataFrame\\n\\n    Computes durations, localizes time zones, and tags each row by calendar\\n\\nRequirements:\\n# pip install pandas python-dateutil icalendar recurring-ical-events pytz\\n\\n'"
      ]
     },
     "execution_count": 30,
     "metadata": {},
     "output_type": "execute_result"
    }
   ],
   "source": [
    "\"\"\"\n",
    "Workflow plus ready‑to‑run Python to turn Google Calendar into analyzable tables\n",
    "\n",
    "1) Export your calendars (no API needed)\n",
    "Option A: Quick export from Google Calendar (recommended)\n",
    "\n",
    "Go to Google Calendar on the web.\n",
    "\n",
    "Gear icon → Settings → Import & export → Export.\n",
    "\n",
    "You’ll get a .zip containing one .ics file per calendar.\n",
    "\n",
    "\n",
    "2) Parse & normalize in Python (handles recurrences)\n",
    "\n",
    "Pipeline that:\n",
    "\n",
    "    Reads multiple .ics files (one per calendar)\n",
    "\n",
    "    Expands recurring events within a date range\n",
    "\n",
    "    Normalizes to a single pandas DataFrame\n",
    "\n",
    "    Computes durations, localizes time zones, and tags each row by calendar\n",
    "\n",
    "Requirements:\n",
    "# pip install pandas python-dateutil icalendar recurring-ical-events pytz\n",
    "\n",
    "\"\"\""
   ]
  },
  {
   "cell_type": "code",
   "execution_count": 10,
   "id": "b8b6ff83-6b0f-4c25-904e-9c42b2b8a7db",
   "metadata": {},
   "outputs": [],
   "source": [
    "from pathlib import Path\n",
    "import zipfile\n",
    "from datetime import datetime, timedelta\n",
    "import pandas as pd\n",
    "import pytz\n",
    "from icalendar import Calendar\n",
    "import recurring_ical_events\n",
    "from dateutil.tz import gettz\n",
    "\n",
    "# ---- User inputs ----\n",
    "# ics_root = Path(\"/path/to/your/export\")  # folder with .ics files or a .zip\n",
    "ics_root = Path(\"/Users/jcoleman/Downloads/mbi.optical.coop@gmail.com.ical\")\n",
    "local_tz = \"America/New_York\"            # your working timezone\n",
    "date_start = pd.Timestamp(\"2023-01-01\", tz=local_tz)\n",
    "date_end   = pd.Timestamp(\"2025-12-31\", tz=local_tz)\n"
   ]
  },
  {
   "cell_type": "code",
   "execution_count": 12,
   "id": "c5f24333-e316-4f42-aa7a-916acfa98fb2",
   "metadata": {},
   "outputs": [
    {
     "name": "stdout",
     "output_type": "stream",
     "text": [
      "Entries from 2023-01-01 00:00:00-05:00 to 2025-12-31 00:00:00-05:00\n"
     ]
    }
   ],
   "source": [
    "# %pip install icalendar\n",
    "# %pip install recurring_ical_events\n",
    "print(f\"Entries from {date_start} to {date_end}\")"
   ]
  },
  {
   "cell_type": "code",
   "execution_count": 13,
   "id": "0deaa1e0-48aa-4254-9cbb-81ddf5cd4ca5",
   "metadata": {},
   "outputs": [
    {
     "name": "stdout",
     "output_type": "stream",
     "text": [
      "Saved 873 events to /Users/jcoleman/Downloads/mbi.optical.coop@gmail.com.ical/calendar_events_flat.csv\n"
     ]
    }
   ],
   "source": [
    "# ---- Unzip if needed ----\n",
    "if ics_root.suffix.lower() == \".zip\":\n",
    "    out_dir = ics_root.with_suffix(\"\")\n",
    "    out_dir.mkdir(exist_ok=True)\n",
    "    with zipfile.ZipFile(ics_root, \"r\") as z:\n",
    "        z.extractall(out_dir)\n",
    "    ics_dir = out_dir\n",
    "else:\n",
    "    ics_dir = ics_root\n",
    "\n",
    "def load_calendar_events(ics_path: Path, start_dt: pd.Timestamp, end_dt: pd.Timestamp, local_tz: str):\n",
    "    with ics_path.open(\"rb\") as f:\n",
    "        cal = Calendar.from_ical(f.read())\n",
    "\n",
    "    # Expand recurring events within the window\n",
    "    events = recurring_ical_events.of(cal).between(\n",
    "        start_dt.tz_convert(\"UTC\").to_pydatetime(),\n",
    "        end_dt.tz_convert(\"UTC\").to_pydatetime()\n",
    "    )\n",
    "\n",
    "    rows = []\n",
    "    cal_name_guess = ics_path.stem  # fallback if X-WR-CALNAME absent\n",
    "\n",
    "    # Try to read calendar name from ICS headers\n",
    "    for comp in cal.walk():\n",
    "        if comp.name == \"VCALENDAR\":\n",
    "            if comp.get(\"X-WR-CALNAME\"):\n",
    "                cal_name_guess = str(comp.get(\"X-WR-CALNAME\"))\n",
    "            break\n",
    "\n",
    "    for e in events:\n",
    "        # Pull fields robustly\n",
    "        summary = str(e.get(\"SUMMARY\", \"\"))\n",
    "        location = str(e.get(\"LOCATION\", \"\"))\n",
    "        description = str(e.get(\"DESCRIPTION\", \"\"))\n",
    "\n",
    "        # Start/end; convert to pandas Timestamps and localize\n",
    "        dtstart_raw = e.decoded(\"DTSTART\")\n",
    "        dtend_raw   = e.decoded(\"DTEND\", None)\n",
    "\n",
    "        # All-day events may come as date objects\n",
    "        def to_ts(dtobj):\n",
    "            if isinstance(dtobj, datetime):\n",
    "                # If tz-naive, assume UTC then convert to local\n",
    "                if dtobj.tzinfo is None:\n",
    "                    dtobj = dtobj.replace(tzinfo=pytz.UTC)\n",
    "            else:\n",
    "                # date-only → treat as midnight local\n",
    "                dtobj = datetime(dtobj.year, dtobj.month, dtobj.day, tzinfo=gettz(local_tz))\n",
    "            return pd.Timestamp(dtobj).tz_convert(local_tz)\n",
    "\n",
    "        start_ts = to_ts(dtstart_raw)\n",
    "        end_ts = to_ts(dtend_raw) if dtend_raw else start_ts + pd.Timedelta(hours=1)\n",
    "\n",
    "        duration_hours = (end_ts - start_ts).total_seconds() / 3600.0\n",
    "\n",
    "        # # Organizer/attendees (may be missing)\n",
    "        # organizer = str(e.get(\"ORGANIZER\", \"\")).replace(\"MAILTO:\", \"\").strip()\n",
    "        # attendees = []\n",
    "        # for at in e.getall(\"ATTENDEE\", []):\n",
    "        #     attendees.append(str(at).replace(\"MAILTO:\", \"\").strip())\n",
    "        # Organizer/attendees (may be missing or single vs list)\n",
    "        def _as_str(x):\n",
    "            try:\n",
    "                s = x.to_ical().decode() if hasattr(x, \"to_ical\") else str(x)\n",
    "            except Exception:\n",
    "                s = str(x)\n",
    "            return s.replace(\"MAILTO:\", \"\").strip()\n",
    "        \n",
    "        organizer = _as_str(e.get(\"ORGANIZER\", \"\"))\n",
    "        \n",
    "        att_raw = e.get(\"ATTENDEE\")\n",
    "        if att_raw is None:\n",
    "            attendees_list = []\n",
    "        elif isinstance(att_raw, (list, tuple)):\n",
    "            attendees_list = [_as_str(a) for a in att_raw]\n",
    "        else:\n",
    "            attendees_list = [_as_str(att_raw)]\n",
    "        \n",
    "        attendees = \",\".join(attendees_list)\n",
    "\n",
    "        rows.append({\n",
    "            \"calendar\": cal_name_guess,\n",
    "            \"uid\": str(e.get(\"UID\", \"\")),\n",
    "            \"title\": summary,\n",
    "            \"start\": start_ts,\n",
    "            \"end\": end_ts,\n",
    "            \"duration_hours\": duration_hours,\n",
    "            \"location\": location,\n",
    "            \"organizer\": organizer,\n",
    "            \"attendees\": \",\".join(attendees),\n",
    "            \"description\": description\n",
    "        })\n",
    "\n",
    "    return pd.DataFrame(rows)\n",
    "\n",
    "# ---- Aggregate all calendars ----\n",
    "all_rows = []\n",
    "for ics_file in ics_dir.rglob(\"*.ics\"):\n",
    "    df = load_calendar_events(ics_file, date_start, date_end, local_tz)\n",
    "    all_rows.append(df)\n",
    "\n",
    "events_df = pd.concat(all_rows, ignore_index=True) if all_rows else pd.DataFrame()\n",
    "\n",
    "# Basic cleaning/ordering\n",
    "if not events_df.empty:\n",
    "    events_df = events_df.sort_values(\"start\").reset_index(drop=True)\n",
    "    # Add convenience columns\n",
    "    events_df[\"date\"] = events_df[\"start\"].dt.date\n",
    "    events_df[\"year_week\"] = events_df[\"start\"].dt.isocalendar().week.astype(int)\n",
    "    events_df[\"weekday\"] = events_df[\"start\"].dt.day_name()\n",
    "    events_df[\"hour\"] = events_df[\"start\"].dt.hour\n",
    "\n",
    "# Save for downstream analysis\n",
    "out_csv = ics_dir / \"calendar_events_flat.csv\"\n",
    "events_df.to_csv(out_csv, index=False)\n",
    "print(f\"Saved {len(events_df)} events to {out_csv}\")\n"
   ]
  },
  {
   "cell_type": "code",
   "execution_count": 25,
   "id": "a82086c2-1791-414f-bf79-57da20154f6a",
   "metadata": {},
   "outputs": [
    {
     "name": "stdout",
     "output_type": "stream",
     "text": [
      "0               padilla-coreano\n",
      "1           Padilla Coreano Lab\n",
      "2           Padilla Coreano Lab\n",
      "3            Justin - Burke Lab\n",
      "4           Padilla-Coreano Lab\n",
      "                 ...           \n",
      "868           Eli (Padilla lab)\n",
      "869    Adithya - Khoshbouei Lab\n",
      "870    Adithya - Khoshbouei Lab\n",
      "871       Khoshbouei - Stephen \n",
      "872          Nikon maintenance \n",
      "Name: title, Length: 873, dtype: object\n"
     ]
    }
   ],
   "source": [
    "# print(out_csv)\n",
    "# print(events_df.head())\n",
    "print(events_df[\"title\"])"
   ]
  },
  {
   "cell_type": "code",
   "execution_count": null,
   "id": "e4b111f6-1e98-49bd-8756-7d86360fff94",
   "metadata": {},
   "outputs": [],
   "source": []
  }
 ],
 "metadata": {
  "kernelspec": {
   "display_name": "Miniforge3 (data_analysis_env)",
   "language": "python",
   "name": "data_analysis_env"
  },
  "language_info": {
   "codemirror_mode": {
    "name": "ipython",
    "version": 3
   },
   "file_extension": ".py",
   "mimetype": "text/x-python",
   "name": "python",
   "nbconvert_exporter": "python",
   "pygments_lexer": "ipython3",
   "version": "3.11.13"
  }
 },
 "nbformat": 4,
 "nbformat_minor": 5
}
